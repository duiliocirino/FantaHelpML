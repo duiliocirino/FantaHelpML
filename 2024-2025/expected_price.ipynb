{
 "cells": [
  {
   "cell_type": "markdown",
   "metadata": {},
   "source": [
    "# Imports"
   ]
  },
  {
   "cell_type": "code",
   "execution_count": 4,
   "metadata": {},
   "outputs": [],
   "source": [
    "import pandas as pd\n",
    "import numpy as np\n",
    "import matplotlib.pyplot as plt\n",
    "import joblib\n",
    "\n",
    "from scipy.stats import norm"
   ]
  },
  {
   "cell_type": "markdown",
   "metadata": {},
   "source": [
    "# Load the datasets"
   ]
  },
  {
   "cell_type": "code",
   "execution_count": 5,
   "metadata": {},
   "outputs": [
    {
     "name": "stdout",
     "output_type": "stream",
     "text": [
      "PLAYERS\n",
      "Shape:(539, 24)\n",
      "Summary Players\n",
      "       Id Role         Name     Squad  Price  MyRating         Mate  \\\n",
      "0    4431    P  Carnesecchi  Atalanta     10       1.4        Musso   \n",
      "1    2792    P        Musso  Atalanta      5       2.4  Carnesecchi   \n",
      "2    2297    P     Rossi F.  Atalanta      1       1.0          NaN   \n",
      "3     554    D   Zappacosta  Atalanta     15       4.4         Holm   \n",
      "4    5067    D       Bakker  Atalanta     11       4.0      Ruggeri   \n",
      "..    ...  ...          ...       ...    ...       ...          ...   \n",
      "534  5529    A        Henry    Verona     11       1.9          NaN   \n",
      "535  5471    A       Djuric    Verona     10       1.8    Bonazzoli   \n",
      "536   505    A    Bonazzoli    Verona      8       2.3       Djuric   \n",
      "537  5395    A        Braaf    Verona      1       1.0          NaN   \n",
      "538  5439    A       Kallon    Verona      1       1.0          NaN   \n",
      "\n",
      "     Regularness  FVM  Pg22_23  ...  Mf21_22  Pg20_21  Mv20_21  Mf20_21  \\\n",
      "0              3   10       27  ...     0.00        0     0.00     0.00   \n",
      "1              4   28       23  ...     4.79       35     6.13     4.60   \n",
      "2              1    1        0  ...     5.00        0     0.00     0.00   \n",
      "3              4   41       21  ...     6.24       25     6.22     6.72   \n",
      "4              4   23        0  ...     0.00        0     0.00     0.00   \n",
      "..           ...  ...      ...  ...      ...      ...      ...      ...   \n",
      "534            2    6       15  ...     6.69        0     0.00     0.00   \n",
      "535            4   10       24  ...     6.55        0     0.00     0.00   \n",
      "536            3    8       21  ...     7.10       22     5.97     6.53   \n",
      "537            1    1        6  ...     0.00        4     6.17     7.17   \n",
      "538            1    2       22  ...     5.85        1     6.50     6.50   \n",
      "\n",
      "     Pg19_20  Mv19_20  Mf19_20  Pg18_19  Mv18_19  Mf18_19  \n",
      "0          0     0.00     0.00        0     0.00     0.00  \n",
      "1         38     6.28     5.08       29     6.26     4.81  \n",
      "2          1     6.00     5.00        1     0.00     0.00  \n",
      "3          9     5.72     5.83        0     0.00     0.00  \n",
      "4          0     0.00     0.00        0     0.00     0.00  \n",
      "..       ...      ...      ...      ...      ...      ...  \n",
      "534        0     0.00     0.00        0     0.00     0.00  \n",
      "535        0     0.00     0.00        0     0.00     0.00  \n",
      "536       19     6.22     7.19        0     0.00     0.00  \n",
      "537        0     0.00     0.00        0     0.00     0.00  \n",
      "538        0     0.00     0.00        0     0.00     0.00  \n",
      "\n",
      "[539 rows x 24 columns]\n",
      "SQUADS\n",
      "Shape:(20, 2)\n",
      "Summary Squads\n",
      "           Name  Value\n",
      "0      Atalanta      4\n",
      "1       Bologna      3\n",
      "2      Cagliari      1\n",
      "3        Empoli      1\n",
      "4    Fiorentina      4\n",
      "5     Frosinone      2\n",
      "6         Genoa      3\n",
      "7         Inter      5\n",
      "8      Juventus      5\n",
      "9         Lazio      4\n",
      "10        Lecce      3\n",
      "11        Milan      5\n",
      "12        Monza      2\n",
      "13       Napoli      5\n",
      "14         Roma      4\n",
      "15  Salernitana      3\n",
      "16     Sassuolo      3\n",
      "17       Torino      3\n",
      "18      Udinese      1\n",
      "19       Verona      2\n"
     ]
    }
   ],
   "source": [
    "# load dataset squads\n",
    "print(\"PLAYERS\")\n",
    "urlPlayers = 'output_rating.csv'\n",
    "dataframePlayers = pd.read_csv(urlPlayers, header=0, index_col=None)\n",
    "# summarize shape\n",
    "print(\"Shape:\" + str(dataframePlayers.shape))\n",
    "# summarize first few lines\n",
    "print(\"Summary Players\")\n",
    "print(dataframePlayers)\n",
    "# load dataset squads\n",
    "print(\"SQUADS\")\n",
    "urlSquads = 'squads.csv'\n",
    "dataframeSquads = pd.read_csv(urlSquads, header=0, index_col=None)\n",
    "# summarize shape\n",
    "print(\"Shape:\" + str(dataframeSquads.shape))\n",
    "# summarize first few lines\n",
    "print(\"Summary Squads\")\n",
    "print(dataframeSquads)"
   ]
  },
  {
   "cell_type": "markdown",
   "metadata": {},
   "source": [
    "# Initialize variables"
   ]
  },
  {
   "cell_type": "code",
   "execution_count": 6,
   "metadata": {},
   "outputs": [],
   "source": [
    "roles = ['P', 'D', 'C', 'A']\n",
    "columns = [\"Pg\", \"Mv\", \"Mf\"]\n",
    "seasons = [\"22_23\", \"21_22\", \"20_21\", \"19_20\", \"18_19\"]\n",
    "min_matches = 11"
   ]
  },
  {
   "cell_type": "markdown",
   "metadata": {},
   "source": [
    "# Create subdatasets given the roles of players"
   ]
  },
  {
   "cell_type": "code",
   "execution_count": 7,
   "metadata": {},
   "outputs": [
    {
     "name": "stdout",
     "output_type": "stream",
     "text": [
      "Esempio Centrocampisti\n",
      "       Id Role          Name     Squad  Price  MyRating          Mate  \\\n",
      "15   5685    C   Koopmeiners  Atalanta     24       4.8           NaN   \n",
      "16   2077    C       Pasalic  Atalanta     13       4.0  Ederson D.s.   \n",
      "17   5792    C  Ederson D.s.  Atalanta     12       2.8       Pasalic   \n",
      "18     22    C       De Roon  Atalanta     11       3.0           NaN   \n",
      "19   5001    C     Miranchuk  Atalanta      9       3.4           NaN   \n",
      "..    ...  ...           ...       ...    ...       ...           ...   \n",
      "528  6480    C    Tchatchoua    Verona      4       1.0           NaN   \n",
      "529  6252    C    Folorunsho    Verona      3       2.0       Lazovic   \n",
      "530  6486    C        Suslov    Verona      3       1.0           NaN   \n",
      "531  5947    C       Hrustic    Verona      2       1.0           NaN   \n",
      "532  6254    C      Joselito    Verona      1       1.0           NaN   \n",
      "\n",
      "     Regularness  FVM  Pg22_23  ...  Mf21_22  Pg20_21  Mv20_21  Mf20_21  \\\n",
      "15             5  112       33  ...     6.62        0     0.00     0.00   \n",
      "16             3   30       32  ...     7.56       25     6.08     7.00   \n",
      "17             4   20       34  ...     6.47        0     0.00     0.00   \n",
      "18             5   18       34  ...     6.13       35     6.07     6.06   \n",
      "19             3    8       28  ...     6.44       25     6.22     7.03   \n",
      "..           ...  ...      ...  ...      ...      ...      ...      ...   \n",
      "528            2    5        0  ...     0.00        0     0.00     0.00   \n",
      "529            3   12        0  ...     0.00        0     0.00     0.00   \n",
      "530            1    5        0  ...     0.00        0     0.00     0.00   \n",
      "531            1    4        5  ...     0.00        0     0.00     0.00   \n",
      "532            1    1        0  ...     0.00        0     0.00     0.00   \n",
      "\n",
      "     Pg19_20  Mv19_20  Mf19_20  Pg18_19  Mv18_19  Mf18_19  \n",
      "15         0     0.00     0.00        0     0.00     0.00  \n",
      "16        35     6.15     6.88       33     5.89     6.45  \n",
      "17         0     0.00     0.00        0     0.00     0.00  \n",
      "18        35     5.97     6.06       35     6.01     6.10  \n",
      "19         0     0.00     0.00        0     0.00     0.00  \n",
      "..       ...      ...      ...      ...      ...      ...  \n",
      "528        0     0.00     0.00        0     0.00     0.00  \n",
      "529        0     0.00     0.00        0     0.00     0.00  \n",
      "530        0     0.00     0.00        0     0.00     0.00  \n",
      "531        0     0.00     0.00        0     0.00     0.00  \n",
      "532        0     0.00     0.00        0     0.00     0.00  \n",
      "\n",
      "[183 rows x 24 columns]\n"
     ]
    }
   ],
   "source": [
    "# Create the separate dataframes for ease of use\n",
    "dataframeKeep = dataframePlayers[dataframePlayers['Role'] == roles[0]]\n",
    "dataframeDef = dataframePlayers[dataframePlayers['Role'] == roles[1]]\n",
    "dataframeMid = dataframePlayers[dataframePlayers['Role'] == roles[2]]\n",
    "print(\"Esempio Centrocampisti\")\n",
    "print(dataframeMid)\n",
    "dataframeAtt = dataframePlayers[dataframePlayers['Role'] == roles[3]]\n",
    "# Put in one list\n",
    "dataframes = [dataframeKeep, dataframeDef, dataframeMid, dataframeAtt]"
   ]
  },
  {
   "cell_type": "markdown",
   "metadata": {},
   "source": [
    "# Replace the names of squads in the Players dataframe"
   ]
  },
  {
   "cell_type": "code",
   "execution_count": 8,
   "metadata": {},
   "outputs": [
    {
     "name": "stdout",
     "output_type": "stream",
     "text": [
      "     Id Role         Name Squad  Price  MyRating   Mate  Regularness  FVM  \\\n",
      "0  4431    P  Carnesecchi     4     10       1.4  Musso            3   10   \n",
      "\n",
      "   Pg22_23  ...  Pg20_21  Mv20_21  Mf20_21  Pg19_20  Mv19_20  Mf19_20  \\\n",
      "0       27  ...        0      0.0      0.0        0      0.0      0.0   \n",
      "\n",
      "   Pg18_19  Mv18_19  Mf18_19  Original_Squad  \n",
      "0        0      0.0      0.0        Atalanta  \n",
      "\n",
      "[1 rows x 25 columns]\n"
     ]
    }
   ],
   "source": [
    "# Create a backup of the original 'Squad' column\n",
    "dataframePlayers['Original_Squad'] = dataframePlayers['Squad'].copy()\n",
    "\n",
    "for index, row in dataframePlayers.iterrows():\n",
    "    # Get squad name\n",
    "    squad = row['Squad']\n",
    "    # Find the corresponding row in dataframeSquads where 'Name' matches 'Squad'\n",
    "    squad_row = dataframeSquads[dataframeSquads['Name'] == squad]\n",
    "    # Update \n",
    "    value = squad_row['Value'].values[0]\n",
    "    dataframePlayers.at[index, 'Squad'] = value\n",
    "\n",
    "print(dataframePlayers.head(1))"
   ]
  },
  {
   "cell_type": "markdown",
   "metadata": {},
   "source": [
    "# Load the regressors"
   ]
  },
  {
   "cell_type": "markdown",
   "metadata": {},
   "source": [
    "Regressors are to be tuples of: [Squad, Price, MyRating, Regularness, FVM]\n"
   ]
  },
  {
   "cell_type": "code",
   "execution_count": 9,
   "metadata": {},
   "outputs": [
    {
     "data": {
      "text/plain": [
       "array([[125.07237654,  22.62197594]])"
      ]
     },
     "execution_count": 9,
     "metadata": {},
     "output_type": "execute_result"
    }
   ],
   "source": [
    "# Initialize the regressors array\n",
    "regressors = []\n",
    "# Load the saved SVM regressor model\n",
    "for i, role in enumerate(roles):\n",
    "    regressors.append(joblib.load('ridge_regressor_model_' + roles[i] + '.pkl'))\n",
    "\n",
    "row = [5, 40, 4.5, 5, 220]\n",
    "regressors[3].predict([row])"
   ]
  },
  {
   "cell_type": "markdown",
   "metadata": {},
   "source": [
    "# Run the regression"
   ]
  },
  {
   "cell_type": "markdown",
   "metadata": {},
   "source": [
    "Here you have to update the Pgxx_xx to the last season number"
   ]
  },
  {
   "cell_type": "code",
   "execution_count": 10,
   "metadata": {},
   "outputs": [
    {
     "name": "stdout",
     "output_type": "stream",
     "text": [
      "     Id Role         Name Squad  Price  MyRating   Mate  Regularness  FVM  \\\n",
      "0  4431    P  Carnesecchi     4     10       1.4  Musso            3   10   \n",
      "\n",
      "   ExpectedPrice  ...  Pg20_21  Mv20_21  Mf20_21  Pg19_20  Mv19_20  Mf19_20  \\\n",
      "0              3  ...        0      0.0      0.0        0      0.0      0.0   \n",
      "\n",
      "   Pg18_19  Mv18_19  Mf18_19  Original_Squad  \n",
      "0        0      0.0      0.0        Atalanta  \n",
      "\n",
      "[1 rows x 27 columns]\n"
     ]
    }
   ],
   "source": [
    "# Scalings of the value to 800 credits (base 500)\n",
    "#scaling_per_role_800 = [1.1, 1.1, 1.15, 1.35]\n",
    "# Specify the columns you want to extract\n",
    "columns_to_extract = ['Squad', 'Price', \"MyRating\", \"Regularness\", \"FVM\"]\n",
    "\n",
    "# Create a new column with NaN values\n",
    "new_column = pd.Series([np.nan] * len(dataframePlayers), name='ExpectedPrice')\n",
    "new_column = pd.Series([np.nan] * len(dataframePlayers), name='ExpectedPriceStd')\n",
    "# Specify the position to insert the new column (between 'Column2' and 'Column4')\n",
    "position = dataframePlayers.columns.get_loc('Pg22_23')\n",
    "# Insert the new column 'ExpectedPrice' at the specified position\n",
    "dataframePlayers.insert(position, 'ExpectedPriceStd', new_column)\n",
    "# Insert the new column 'ExpectedPrice' at the specified position\n",
    "dataframePlayers.insert(position, 'ExpectedPrice', new_column)\n",
    "\n",
    "for index, row in dataframePlayers.iterrows():\n",
    "    # Get the index of the role of the player\n",
    "    i = roles.index(row['Role'])\n",
    "    # Get the tuple to predict\n",
    "    x = row.loc[columns_to_extract]\n",
    "    # Predict the value\n",
    "    prediction = regressors[i].predict([x]) #* scaling_per_role_800[i]\n",
    "    temp_mean = prediction[0][0]\n",
    "\n",
    "    temp_std = prediction[0][1]\n",
    "    # Round and turn to int\n",
    "    temp_mean = int(round(temp_mean))\n",
    "    temp_std = int(round(temp_std))\n",
    "    # Put to one if less\n",
    "    temp_mean = 1 if temp_mean < 1 else temp_mean\n",
    "    temp_std = 1 if temp_std < 0 else temp_std\n",
    "    # Put the value in the column\n",
    "    dataframePlayers.at[index, 'ExpectedPrice'] = temp_mean\n",
    "    dataframePlayers.at[index, 'ExpectedPriceStd'] = temp_std\n",
    "# Convert the 'ExpectedPrice' column to integers\n",
    "dataframePlayers['ExpectedPrice'] = dataframePlayers['ExpectedPrice'].astype(int)\n",
    "dataframePlayers['ExpectedPriceStd'] = dataframePlayers['ExpectedPriceStd'].astype(int)\n",
    "print(dataframePlayers.head(1))"
   ]
  },
  {
   "cell_type": "markdown",
   "metadata": {},
   "source": [
    "# Revert the Squad column"
   ]
  },
  {
   "cell_type": "code",
   "execution_count": 11,
   "metadata": {},
   "outputs": [
    {
     "name": "stdout",
     "output_type": "stream",
     "text": [
      "\n",
      "After Reverting:\n",
      "       Id Role         Name     Squad  Price  MyRating         Mate  \\\n",
      "0    4431    P  Carnesecchi  Atalanta     10       1.4        Musso   \n",
      "1    2792    P        Musso  Atalanta      5       2.4  Carnesecchi   \n",
      "2    2297    P     Rossi F.  Atalanta      1       1.0          NaN   \n",
      "3     554    D   Zappacosta  Atalanta     15       4.4         Holm   \n",
      "4    5067    D       Bakker  Atalanta     11       4.0      Ruggeri   \n",
      "..    ...  ...          ...       ...    ...       ...          ...   \n",
      "534  5529    A        Henry    Verona     11       1.9          NaN   \n",
      "535  5471    A       Djuric    Verona     10       1.8    Bonazzoli   \n",
      "536   505    A    Bonazzoli    Verona      8       2.3       Djuric   \n",
      "537  5395    A        Braaf    Verona      1       1.0          NaN   \n",
      "538  5439    A       Kallon    Verona      1       1.0          NaN   \n",
      "\n",
      "     Regularness  FVM  ExpectedPrice  ...  Mf21_22  Pg20_21  Mv20_21  Mf20_21  \\\n",
      "0              3   10              3  ...     0.00        0     0.00     0.00   \n",
      "1              4   28             17  ...     4.79       35     6.13     4.60   \n",
      "2              1    1              2  ...     5.00        0     0.00     0.00   \n",
      "3              4   41             28  ...     6.24       25     6.22     6.72   \n",
      "4              4   23             10  ...     0.00        0     0.00     0.00   \n",
      "..           ...  ...            ...  ...      ...      ...      ...      ...   \n",
      "534            2    6              1  ...     6.69        0     0.00     0.00   \n",
      "535            4   10              1  ...     6.55        0     0.00     0.00   \n",
      "536            3    8              1  ...     7.10       22     5.97     6.53   \n",
      "537            1    1              3  ...     0.00        4     6.17     7.17   \n",
      "538            1    2              4  ...     5.85        1     6.50     6.50   \n",
      "\n",
      "     Pg19_20  Mv19_20  Mf19_20  Pg18_19  Mv18_19  Mf18_19  \n",
      "0          0     0.00     0.00        0     0.00     0.00  \n",
      "1         38     6.28     5.08       29     6.26     4.81  \n",
      "2          1     6.00     5.00        1     0.00     0.00  \n",
      "3          9     5.72     5.83        0     0.00     0.00  \n",
      "4          0     0.00     0.00        0     0.00     0.00  \n",
      "..       ...      ...      ...      ...      ...      ...  \n",
      "534        0     0.00     0.00        0     0.00     0.00  \n",
      "535        0     0.00     0.00        0     0.00     0.00  \n",
      "536       19     6.22     7.19        0     0.00     0.00  \n",
      "537        0     0.00     0.00        0     0.00     0.00  \n",
      "538        0     0.00     0.00        0     0.00     0.00  \n",
      "\n",
      "[539 rows x 26 columns]\n"
     ]
    }
   ],
   "source": [
    "# To revert the operation, you can restore the original values from the backup\n",
    "dataframePlayers['Squad'] = dataframePlayers['Original_Squad']\n",
    "# Remove the 'Original_Squad' column after reverting the operation\n",
    "dataframePlayers = dataframePlayers.drop(columns=['Original_Squad'])\n",
    "print(\"\\nAfter Reverting:\")\n",
    "print(dataframePlayers)"
   ]
  },
  {
   "cell_type": "markdown",
   "metadata": {},
   "source": [
    "# Save the ready to use .csv "
   ]
  },
  {
   "cell_type": "markdown",
   "metadata": {},
   "source": [
    "Update just the name every season"
   ]
  },
  {
   "cell_type": "code",
   "execution_count": 12,
   "metadata": {},
   "outputs": [],
   "source": [
    "dataframePlayers.to_csv('players23_24_trial.csv', index=False, sep=',', encoding='utf-8')\n",
    "#dataframePlayers.to_csv('players23_24_trial_excel.csv', index=False, sep=';', encoding='utf-8')"
   ]
  },
  {
   "cell_type": "markdown",
   "metadata": {},
   "source": [
    "# Save without the stats columns"
   ]
  },
  {
   "cell_type": "code",
   "execution_count": 3,
   "metadata": {},
   "outputs": [
    {
     "ename": "NameError",
     "evalue": "name 'dataframePlayers' is not defined",
     "output_type": "error",
     "traceback": [
      "\u001b[1;31m---------------------------------------------------------------------------\u001b[0m",
      "\u001b[1;31mNameError\u001b[0m                                 Traceback (most recent call last)",
      "\u001b[1;32mc:\\Users\\dulio\\Desktop\\FantaHelp\\2024-2025\\expected_price.ipynb Cell 23\u001b[0m line \u001b[0;36m2\n\u001b[0;32m      <a href='vscode-notebook-cell:/c%3A/Users/dulio/Desktop/FantaHelp/2024-2025/expected_price.ipynb#X31sZmlsZQ%3D%3D?line=0'>1</a>\u001b[0m \u001b[39m# Get the index of the specified column\u001b[39;00m\n\u001b[1;32m----> <a href='vscode-notebook-cell:/c%3A/Users/dulio/Desktop/FantaHelp/2024-2025/expected_price.ipynb#X31sZmlsZQ%3D%3D?line=1'>2</a>\u001b[0m column_index \u001b[39m=\u001b[39m dataframePlayers\u001b[39m.\u001b[39mcolumns\u001b[39m.\u001b[39mget_loc(\u001b[39m'\u001b[39m\u001b[39mExpectedPrice\u001b[39m\u001b[39m'\u001b[39m)\n\u001b[0;32m      <a href='vscode-notebook-cell:/c%3A/Users/dulio/Desktop/FantaHelp/2024-2025/expected_price.ipynb#X31sZmlsZQ%3D%3D?line=2'>3</a>\u001b[0m \u001b[39m# Drop all columns after the specified column\u001b[39;00m\n\u001b[0;32m      <a href='vscode-notebook-cell:/c%3A/Users/dulio/Desktop/FantaHelp/2024-2025/expected_price.ipynb#X31sZmlsZQ%3D%3D?line=3'>4</a>\u001b[0m dataframePlayers \u001b[39m=\u001b[39m dataframePlayers\u001b[39m.\u001b[39miloc[:, :column_index \u001b[39m+\u001b[39m \u001b[39m1\u001b[39m]\n",
      "\u001b[1;31mNameError\u001b[0m: name 'dataframePlayers' is not defined"
     ]
    }
   ],
   "source": [
    "# Get the index of the specified column\n",
    "column_index = dataframePlayers.columns.get_loc('ExpectedPrice')\n",
    "# Drop all columns after the specified column\n",
    "dataframePlayers = dataframePlayers.iloc[:, :column_index + 1]\n",
    "# Save to file\n",
    "dataframePlayers.to_csv('players23_24_nostats.csv', index=False, sep=',', encoding='utf-8')"
   ]
  }
 ],
 "metadata": {
  "kernelspec": {
   "display_name": "Python 3",
   "language": "python",
   "name": "python3"
  },
  "language_info": {
   "codemirror_mode": {
    "name": "ipython",
    "version": 3
   },
   "file_extension": ".py",
   "mimetype": "text/x-python",
   "name": "python",
   "nbconvert_exporter": "python",
   "pygments_lexer": "ipython3",
   "version": "3.9.6"
  },
  "orig_nbformat": 4
 },
 "nbformat": 4,
 "nbformat_minor": 2
}
