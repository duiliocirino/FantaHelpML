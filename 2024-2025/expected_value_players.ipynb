{
 "cells": [
  {
   "cell_type": "markdown",
   "metadata": {},
   "source": [
    "# Imports"
   ]
  },
  {
   "cell_type": "code",
   "execution_count": 11,
   "metadata": {},
   "outputs": [],
   "source": [
    "import pandas as pd\n",
    "import numpy as np\n",
    "import matplotlib.pyplot as plt\n",
    "\n",
    "from scipy.stats import norm\n",
    "\n",
    "import utility"
   ]
  },
  {
   "cell_type": "markdown",
   "metadata": {},
   "source": [
    "# Load the datasets"
   ]
  },
  {
   "cell_type": "code",
   "execution_count": 12,
   "metadata": {},
   "outputs": [
    {
     "name": "stdout",
     "output_type": "stream",
     "text": [
      "PLAYERS\n",
      "Shape: (539, 24)\n",
      "Summary Players\n",
      "       Id Role         Name     Squad  Price  MyRating         Mate  \\\n",
      "0    4431    P  Carnesecchi  Atalanta     10         1        Musso   \n",
      "1    2792    P        Musso  Atalanta      5         2  Carnesecchi   \n",
      "2    2297    P     Rossi F.  Atalanta      1         1          NaN   \n",
      "3     554    D   Zappacosta  Atalanta     15         4         Holm   \n",
      "4    5067    D       Bakker  Atalanta     11         4      Ruggeri   \n",
      "..    ...  ...          ...       ...    ...       ...          ...   \n",
      "534  5529    A        Henry    Verona     11         2          NaN   \n",
      "535  5471    A       Djuric    Verona     10         2    Bonazzoli   \n",
      "536   505    A    Bonazzoli    Verona      8         2       Djuric   \n",
      "537  5395    A        Braaf    Verona      1         1          NaN   \n",
      "538  5439    A       Kallon    Verona      1         1          NaN   \n",
      "\n",
      "     Regularness  FVM  Pg22_23  ...  Mf21_22  Pg20_21  Mv20_21  Mf20_21  \\\n",
      "0              3   10       27  ...     0.00        0     0.00     0.00   \n",
      "1              4   28       23  ...     4.79       35     6.13     4.60   \n",
      "2              1    1        0  ...     5.00        0     0.00     0.00   \n",
      "3              4   41       21  ...     6.24       25     6.22     6.72   \n",
      "4              4   23        0  ...     0.00        0     0.00     0.00   \n",
      "..           ...  ...      ...  ...      ...      ...      ...      ...   \n",
      "534            2    6       15  ...     6.69        0     0.00     0.00   \n",
      "535            4   10       24  ...     6.55        0     0.00     0.00   \n",
      "536            3    8       21  ...     7.10       22     5.97     6.53   \n",
      "537            1    1        6  ...     0.00        4     6.17     7.17   \n",
      "538            1    2       22  ...     5.85        1     6.50     6.50   \n",
      "\n",
      "     Pg19_20  Mv19_20  Mf19_20  Pg18_19  Mv18_19  Mf18_19  \n",
      "0          0     0.00     0.00        0     0.00     0.00  \n",
      "1         38     6.28     5.08       29     6.26     4.81  \n",
      "2          1     6.00     5.00        1     0.00     0.00  \n",
      "3          9     5.72     5.83        0     0.00     0.00  \n",
      "4          0     0.00     0.00        0     0.00     0.00  \n",
      "..       ...      ...      ...      ...      ...      ...  \n",
      "534        0     0.00     0.00        0     0.00     0.00  \n",
      "535        0     0.00     0.00        0     0.00     0.00  \n",
      "536       19     6.22     7.19        0     0.00     0.00  \n",
      "537        0     0.00     0.00        0     0.00     0.00  \n",
      "538        0     0.00     0.00        0     0.00     0.00  \n",
      "\n",
      "[539 rows x 24 columns]\n",
      "TEAMS Nicosia\n",
      "Shape:(3135, 4)\n",
      "Summary Players\n",
      "                    Role          Name Team  Price\n",
      "0         Union Saldado            NaN  NaN    NaN\n",
      "1                      P     Skorupski  Bol    3.0\n",
      "2                      P  Rui Patricio  Rom   33.0\n",
      "3                      P   Di Gregorio  Mon    2.0\n",
      "4                      D        Acerbi  Int   10.0\n",
      "...                  ...           ...  ...    ...\n",
      "3130                   A       Simeone  Nap    1.0\n",
      "3131                   A     Cambiaghi  Emp    1.0\n",
      "3132                   A       Osimhen  Nap  320.0\n",
      "3133                   A         Henry  Ver    1.0\n",
      "3134  Crediti Residui: 9           NaN  NaN    NaN\n",
      "\n",
      "[3135 rows x 4 columns]\n",
      "TEAMS Friends\n",
      "Shape:(223, 4)\n",
      "Summary Players\n",
      "                   Role            Name Team  Price\n",
      "0         indigo la End             NaN  NaN    NaN\n",
      "1                     P           Perin  Juv    1.0\n",
      "2                     P        Szczesny  Juv   60.0\n",
      "3                     P  Christensen O.  Fio    1.0\n",
      "4                     D      Zappacosta  Ata   46.0\n",
      "..                  ...             ...  ...    ...\n",
      "218                   A         Berardi  Sas  131.0\n",
      "219                   A          Lukaku  Rom  181.0\n",
      "220                   A         Colombo  Mon    1.0\n",
      "221                   A      Beltran L.  Fio    2.0\n",
      "222  Crediti Residui: 0             NaN  NaN    NaN\n",
      "\n",
      "[223 rows x 4 columns]\n",
      "SQUADS\n",
      "Shape:(20, 2)\n",
      "Summary Squads\n",
      "           Name  Value\n",
      "0      Atalanta      4\n",
      "1       Bologna      3\n",
      "2      Cagliari      1\n",
      "3        Empoli      1\n",
      "4    Fiorentina      4\n",
      "5     Frosinone      2\n",
      "6         Genoa      3\n",
      "7         Inter      5\n",
      "8      Juventus      5\n",
      "9         Lazio      4\n",
      "10        Lecce      3\n",
      "11        Milan      5\n",
      "12        Monza      2\n",
      "13       Napoli      5\n",
      "14         Roma      4\n",
      "15  Salernitana      3\n",
      "16     Sassuolo      3\n",
      "17       Torino      3\n",
      "18      Udinese      1\n",
      "19       Verona      2\n"
     ]
    }
   ],
   "source": [
    "# load dataset players\n",
    "print(\"PLAYERS\")\n",
    "urlPlayers = 'output_rating.csv'\n",
    "dataframePlayers = pd.read_csv(urlPlayers, header=0, index_col=None)\n",
    "# summarize shape\n",
    "print(\"Shape: \" + str(dataframePlayers.shape))\n",
    "# summarize first few lines\n",
    "print(\"Summary Players\")\n",
    "print(dataframePlayers)\n",
    "# load dataset squads\n",
    "print(\"TEAMS Nicosia\")\n",
    "urlExcel = 'Rose_fantalega-nicosia.xlsx'\n",
    "dataframeTeams = pd.read_excel(urlExcel, index_col=None)\n",
    "# summarize shape\n",
    "print(\"Shape:\" + str(dataframeTeams.shape))\n",
    "# summarize first few lines\n",
    "print(\"Summary Players\")\n",
    "print(dataframeTeams)\n",
    "# load dataset squads\n",
    "print(\"TEAMS Friends\")\n",
    "urlExcel = 'Rose_gli-amici-del-dio-vento.xlsx'\n",
    "dataframeTeamsFriends = pd.read_excel(urlExcel, index_col=None)\n",
    "# summarize shape\n",
    "print(\"Shape:\" + str(dataframeTeamsFriends.shape))\n",
    "# summarize first few lines\n",
    "print(\"Summary Players\")\n",
    "print(dataframeTeamsFriends)\n",
    "# load dataset squads\n",
    "print(\"SQUADS\")\n",
    "urlSquads = 'squads.csv'\n",
    "dataframeSquads = pd.read_csv(urlSquads, header=0, index_col=None)\n",
    "# summarize shape\n",
    "print(\"Shape:\" + str(dataframeSquads.shape))\n",
    "# summarize first few lines\n",
    "print(\"Summary Squads\")\n",
    "print(dataframeSquads)"
   ]
  },
  {
   "cell_type": "markdown",
   "metadata": {},
   "source": [
    "## Get Data"
   ]
  },
  {
   "cell_type": "code",
   "execution_count": 13,
   "metadata": {},
   "outputs": [
    {
     "name": "stdout",
     "output_type": "stream",
     "text": [
      "['Carnesecchi', 'Musso', 'Rossi F.', 'Zappacosta', 'Bakker', 'Scalvini', 'Holm', 'Kolasinac', 'Toloi', 'Djimsiti', 'Palomino', 'Hateboer', 'Zortea', 'Ruggeri', 'Bonfanti', 'Koopmeiners', 'Pasalic', 'Ederson D.s.', 'De Roon', 'Miranchuk', 'De Ketelaere', 'Adopo', 'Scamacca', 'Lookman', \"Toure' E.\", 'Muriel', 'Skorupski', 'Ravaglia F.', 'Bagnolini', 'Posch', \"Lucumi'\", 'Kristiansen', 'Beukema', 'Lykogiannis', 'Calafiori', 'Soumaoro', 'Bonifazi', 'Corazza', 'De Silvestri', 'Amey', 'Orsolini', 'Ferguson', 'Ndoye', 'Freuler', 'Moro N.', 'Aebischer', 'Fabbian', 'Saelemaekers', 'Urbanski', 'El Azzouzi', 'Zirkzee', 'Karlsson', 'Van Hooijdonk', 'Radunovic', 'Scuffet', 'Aresti', 'Zappa', 'Dossena', 'Azzi', 'Wieteska', 'Augello', 'Obert', 'Hatzidiakos', 'Goldaniga', 'Di Pardo', 'Capradossi', 'Jankto', 'Nandez', 'Mancosu', 'Oristanio', 'Makoumbou', 'Deiola', 'Sulemana I.', 'Rog', 'Viola', 'Prati', 'Lapadula', 'Petagna', 'Shomurodov', 'Luvumbo', 'Pavoletti', 'Caprile', 'Berisha', 'Perisan', 'Stubljar', 'Ebuehi', 'Bastoni S.', 'Luperto', 'Pezzella Giu.', 'Ismajli', 'Bereszynski', 'Walukiewicz', 'Cacace', 'Tonelli', 'Guarino', 'Baldanzi', 'Marin', 'Gyasi', 'Grassi', 'Fazzini', 'Maldini', 'Kovalenko', 'Maleh', 'Ranocchia F.', 'Belardinelli', 'Caputo', 'Cambiaghi', 'Cancellieri', 'Destro', 'Shpendi S.', 'Ekong', 'Terracciano', 'Christensen O.', 'Martinelli T.', 'Biraghi', 'Milenkovic', 'Parisi', \"Dodo'\", 'Mina', 'Ranieri L.', 'Martinez Quarta', 'Kayode', 'Pierozzi', 'Bonaventura', \"Ikone'\", 'Barak', 'Mandragora', 'Castrovilli', 'Sottil', 'Arthur Melo', 'Sabiri', 'Lopez M.', 'Duncan', 'Infantino', 'Amatucci', 'Nzola', 'Gonzalez N.', 'Beltran L.', 'Brekalo', \"Kouame'\", 'Turati', 'Cerofolini', 'Frattali', 'Romagnoli S.', 'Marchizza', 'Monterisi', 'Lirola', 'Oyono', 'Okoli', 'Mateus Lusuardi', 'Kalaj', 'Harroui', 'Reinier', 'Brescianini', 'Mazzitelli', 'Bourabia', 'Baez', 'Garritano', 'Barrenechea', 'Gelli', 'Lulic K.', 'Cheddira', 'Caso', \"Soule'\", 'Cuni', 'Kvernadze', 'Kaio Jorge', 'Bidaoui', 'Martinez Jo.', 'Leali', 'Sommariva', 'Martin', 'Dragusin', 'Vasquez', 'Sabelli', 'Biraschi', 'Vogliacco', 'Bani', 'Hefti', 'Haps', 'De Winter', 'Matturro', 'Malinovskyi', 'Gudmundsson A.', 'Thorsby', 'Messias', 'Frendrup', 'Strootman', 'Badelj', 'Kutlu', 'Jagiello', 'Retegui', 'Ekuban', 'Puscas', 'Yalcin', 'Sommer', 'Audero', 'Di Gennaro', 'Dimarco', 'Carlos Augusto', 'Bastoni', 'Dumfries', 'Pavard', 'Darmian', 'Acerbi', 'Cuadrado', 'De Vrij', 'Bisseck', 'Barella', 'Calhanoglu', 'Frattesi', 'Mkhitaryan', 'Klaassen', 'Sensi', 'Asllani', 'Martinez L.', 'Thuram', 'Arnautovic', 'Sanchez', 'Szczesny', 'Perin', 'Pinsoglio', 'Danilo', 'Bremer', 'Cambiaso', 'Alex Sandro', 'Gatti', 'Rugani', 'De Sciglio', 'Huijsen', 'Rabiot', 'Kostic', 'Fagioli', 'Pogba', 'Locatelli', 'Weah', 'Mckennie', 'Miretti', 'Iling Junior', 'Nicolussi Caviglia', 'Vlahovic', 'Chiesa', 'Milik', 'Kean', 'Yildiz', 'Provedel', 'Sepe', 'Mandas', 'Romagnoli', 'Casale', 'Hysaj', 'Marusic', 'Lazzari', 'Patric', 'Pellegrini Lu.', 'Gila', 'Zaccagni', 'Luis Alberto', 'Felipe Anderson', 'Kamada', 'Guendouzi', 'Cataldi', 'Vecino', 'Rovella', 'Basic', 'Immobile', 'Castellanos', 'Pedro', 'Isaksen', 'Falcone', 'Brancolini', 'Borbei', 'Baschirotto', 'Gallo', 'Gendrey', 'Pongracic', 'Venuti', 'Dorgu', 'Touba', 'Dermaku', 'Smajlovic', 'Strefezza', 'Ramadani', 'Blin', 'Gonzalez J.', 'Oudin', 'Rafia', 'Kaba', 'Faticanti', 'Krstovic', 'Almqvist', 'Banda', 'Piccoli', 'Burnete', 'Corfitzen', 'Maignan', 'Sportiello', 'Mirante', 'Hernandez T.', 'Tomori', 'Thiaw', 'Calabria', 'Kalulu', 'Kjaer', 'Florenzi', 'Pellegrino', 'Pulisic', 'Chukwueze', 'Loftus-Cheek', 'Reijnders', 'Bennacer', 'Musah', 'Krunic', 'Pobega', 'Romero L.', 'Adli', 'Rafael Leao', 'Giroud', 'Okafor', 'Jovic', 'Di Gregorio', 'Lamanna', 'Sorrentino A.', 'Gori', 'Kyriakopoulos', \"Mari'\", 'Izzo', \"D'ambrosio\", 'Caldirola', 'Birindelli', 'Carboni A.', 'Cittadini', 'Pereira P.', 'Bettella', 'Carboni F.', 'Ciurria', 'Pessina', 'Colpani', 'Gagliardini', 'Machin', 'Akpa Akpro', 'Vignato S.', 'Bondo', 'Carboni V.', 'Caprari', 'Mota', 'Colombo', 'Maric', 'Meret', 'Gollini', 'Contini', 'Di Lorenzo', 'Rrahmani', 'Mario Rui', 'Natan', 'Olivera', 'Juan Jesus', 'Zanoli', 'Ostigard', 'Zielinski', 'Politano', 'Lindstrom', 'Elmas', 'Zambo Anguissa', 'Lobotka', 'Cajuste ', 'Gaetano', 'Demme', 'Zerbin', 'Osimhen', 'Kvaratskhelia', 'Simeone', 'Raspadori', 'Rui Patricio', 'Boer', 'Svilar', 'Smalling', 'Spinazzola', 'Mancini', \"N'dicka\", 'Kristensen', 'Llorente D.', 'Karsdorp', 'Kumbulla', 'Celik', 'El Shaarawy', 'Aouar', 'Pellegrini Lo.', 'Renato Sanches', 'Cristante', 'Zalewski', 'Paredes', 'Bove', 'Pagano', 'Lukaku', 'Dybala', 'Abraham', 'Belotti', 'Azmoun', 'Ochoa', 'Fiorillo', 'Costil', 'Mazzocchi', 'Bradaric', 'Gyomber', 'Pirola', 'Lovato', 'Sambia', 'Fazio', 'Daniliuc', 'Bronn', 'Candreva', 'Coulibaly L.', 'Kastanos', 'Martegani', 'Bohinen', 'Maggiore', 'Tchaouna', 'Legowski', 'Dia', 'Botheim', 'Jovane', 'Ikwuemesi', 'Valencia D.', 'Stewart', 'Consigli', 'Cragno', 'Pegolo', 'Pedersen', 'Toljan', 'Erlic', 'Viti', 'Tressoldi', 'Vina', 'Ferrari G.', 'Missori', 'Bajrami', 'Matheus Henrique', 'Thorstvedt', 'Castillejo', 'Boloca', 'Racic', 'Obiang', 'Volpato', 'Lipani', 'Berardi', \"Lauriente'\", 'Pinamonti', 'Mulattieri', 'Defrel', 'Alvarez A.', 'Ceide', 'Milinkovic-Savic V.', 'Gemello', 'Popa', 'Schuurs', 'Buongiorno', 'Rodriguez R.', 'Bellanova', 'Vojvoda', 'Djidji', 'Lazaro', 'Zima', 'Sazonov', 'Soppy', \"N'guessan\", 'Vlasic', 'Ricci S.', 'Ilic', 'Radonjic', 'Tameze', 'Linetty', 'Gineitis', 'Sanabria', 'Zapata D.', 'Karamoh', 'Pellegri', 'Seck', 'Silvestri', 'Padelli', 'Okoye', 'Perez N.', 'Bijol', 'Kamara H.', 'Zemura', 'Masina', 'Ebosele', 'Kabasele', 'Ehizibue', 'Ebosse', 'Ferreira J.', 'Kristensen T.', 'Guessand A.', 'Samardzic', 'Lovric', 'Walace', 'Payero', 'Quina', 'Zarraga', 'Camara E.', 'Pafundi', 'Deulofeu', 'Thauvin', 'Davis K.', 'Brenner', 'Success', 'Lucca', \"Ake' M.\", 'Vivaldo', \"Montipo'\", 'Berardi A.', 'Perilli', 'Doig', 'Faraoni', 'Hien', 'Dawidowicz', 'Terracciano F.', 'Gunter', 'Magnani', 'Amione', 'Coppola D.', 'Cabal', 'Lazovic', 'Saponara', 'Mboula', 'Duda', 'Hongla', 'Serdar', 'Tchatchoua', 'Folorunsho', 'Suslov', 'Hrustic', 'Joselito', 'Ngonge', 'Henry', 'Djuric', 'Bonazzoli', 'Braaf', 'Kallon']\n"
     ]
    }
   ],
   "source": [
    "roles = [\"P\", \"D\", \"C\", \"A\"]\n",
    "\n",
    "players_list = dataframePlayers[\"Name\"].tolist()\n",
    "print(players_list)"
   ]
  },
  {
   "cell_type": "markdown",
   "metadata": {},
   "source": [
    "## Mean and Std"
   ]
  },
  {
   "cell_type": "code",
   "execution_count": 14,
   "metadata": {},
   "outputs": [
    {
     "name": "stderr",
     "output_type": "stream",
     "text": [
      "C:\\Users\\dulio\\AppData\\Local\\Temp\\ipykernel_23220\\2440067702.py:5: FutureWarning: A value is trying to be set on a copy of a DataFrame or Series through chained assignment using an inplace method.\n",
      "The behavior will change in pandas 3.0. This inplace method will never work because the intermediate object on which we are setting values always behaves as a copy.\n",
      "\n",
      "For example, when doing 'df[col].method(value, inplace=True)', try using 'df.method({col: value}, inplace=True)' or df[col] = df[col].method(value) instead, to perform the operation inplace on the original object.\n",
      "\n",
      "\n",
      "  player_prices['std'].fillna(1, inplace=True)\n"
     ]
    },
    {
     "name": "stdout",
     "output_type": "stream",
     "text": [
      "            Name       mean       std  count\n",
      "0        Abraham   1.000000  1.000000      1\n",
      "1         Acerbi   6.692308  3.250247     13\n",
      "2    Alex Sandro   4.000000  4.242641      2\n",
      "3       Almqvist   4.785714  6.459085     14\n",
      "4          Aouar  13.714286  8.870249     14\n",
      "..           ...        ...       ...    ...\n",
      "534       Suslov   1.000000  1.000000      0\n",
      "535      Hrustic   1.000000  1.000000      0\n",
      "536     Joselito   1.000000  1.000000      0\n",
      "537        Braaf   1.000000  1.000000      0\n",
      "538       Kallon   1.000000  1.000000      0\n",
      "\n",
      "[539 rows x 4 columns]\n"
     ]
    }
   ],
   "source": [
    "# Group by 'Name' and calculate mean, std, and count for each player\n",
    "player_prices = dataframeTeams.groupby('Name')['Price'].agg(['mean', 'std', 'count']).reset_index()\n",
    "\n",
    "# Replace NaN values in 'std' with 1\n",
    "player_prices['std'].fillna(1, inplace=True)\n",
    "\n",
    "# Iterate through the players_list to handle cases where a player has no occurrences\n",
    "for player in players_list:\n",
    "    if player not in player_prices['Name'].values:\n",
    "        # If a player has no occurrences, set mean, std, and count to 1\n",
    "        player_prices = pd.concat([player_prices, pd.DataFrame({'Name': [player], 'mean': [1], 'std': [1], 'count': [0]})], ignore_index=True)\n",
    "\n",
    "# Now, player_stats contains the mean, std, and count for each player, with rows where std is NaN removed\n",
    "print(player_prices)"
   ]
  },
  {
   "cell_type": "markdown",
   "metadata": {},
   "source": [
    "## Friends League Difference"
   ]
  },
  {
   "cell_type": "code",
   "execution_count": 24,
   "metadata": {},
   "outputs": [
    {
     "name": "stdout",
     "output_type": "stream",
     "text": [
      "                   Role            Name Team  Price  PriceDiff\n",
      "0         indigo la End             NaN  NaN    NaN        NaN\n",
      "1                     P           Perin  Juv    1.0          0\n",
      "2                     P        Szczesny  Juv   60.0   0.950661\n",
      "3                     P  Christensen O.  Fio    1.0          0\n",
      "4                     D      Zappacosta  Ata   46.0  -1.963923\n",
      "..                  ...             ...  ...    ...        ...\n",
      "218                   A         Berardi  Sas  131.0   7.145974\n",
      "219                   A          Lukaku  Rom  181.0  21.768005\n",
      "220                   A         Colombo  Mon    1.0          0\n",
      "221                   A      Beltran L.  Fio    2.0   4.400662\n",
      "222  Crediti Residui: 0             NaN  NaN    NaN        NaN\n",
      "\n",
      "[223 rows x 5 columns]\n"
     ]
    },
    {
     "name": "stderr",
     "output_type": "stream",
     "text": [
      "C:\\Users\\dulio\\AppData\\Local\\Temp\\ipykernel_23220\\3415352406.py:4: FutureWarning: A value is trying to be set on a copy of a DataFrame or Series through chained assignment using an inplace method.\n",
      "The behavior will change in pandas 3.0. This inplace method will never work because the intermediate object on which we are setting values always behaves as a copy.\n",
      "\n",
      "For example, when doing 'df[col].method(value, inplace=True)', try using 'df.method({col: value}, inplace=True)' or df[col] = df[col].method(value) instead, to perform the operation inplace on the original object.\n",
      "\n",
      "\n",
      "  dataframeTeamsFriends['Role'].fillna('NaN', inplace=True)\n"
     ]
    }
   ],
   "source": [
    "# Find the index where \"Crediti residui\" is written\n",
    "pattern = r'^Crediti Residui: \\d+$'\n",
    "# Fill NaN values with a placeholder string\n",
    "dataframeTeamsFriends['Role'].fillna('NaN', inplace=True)\n",
    "# Team names\n",
    "team_names_df = dataframeTeamsFriends[~dataframeTeamsFriends['Role'].isin(roles) & ~dataframeTeamsFriends['Role'].str.match(pattern) & ~dataframeTeamsFriends['Role'].str.match(\"NaN\")]\n",
    "\n",
    "# Create new column\n",
    "dataframeTeamsFriends[\"PriceDiff\"] = \"NaN\"\n",
    "for index, row in dataframeTeamsFriends.iterrows():\n",
    "    name = row[\"Name\"]\n",
    "    if name in players_list:\n",
    "        mean, std = utility.get_mean_std_by_name(row[\"Name\"], player_prices)\n",
    "        if mean < row[\"Price\"]:\n",
    "            if mean + std < row[\"Price\"]:\n",
    "                dataframeTeamsFriends.at[index, \"PriceDiff\"] = mean + std - row[\"Price\"]\n",
    "            else:\n",
    "                dataframeTeamsFriends.at[index, \"PriceDiff\"] = 0\n",
    "        else:\n",
    "            if mean - std > row[\"Price\"]:\n",
    "                dataframeTeamsFriends.at[index, \"PriceDiff\"] = mean - std - row[\"Price\"]\n",
    "            else:\n",
    "                dataframeTeamsFriends.at[index, \"PriceDiff\"] = 0\n",
    "\n",
    "print(dataframeTeamsFriends)"
   ]
  },
  {
   "cell_type": "markdown",
   "metadata": {},
   "source": [
    "## Save Stats"
   ]
  },
  {
   "cell_type": "code",
   "execution_count": 25,
   "metadata": {},
   "outputs": [
    {
     "name": "stdout",
     "output_type": "stream",
     "text": [
      "Friends stats saved to friends_prices.xlsx\n"
     ]
    }
   ],
   "source": [
    "# Specify the file path where you want to save the Excel file\n",
    "excel_file_path = 'player_prices.xlsx'\n",
    "\n",
    "# Save the DataFrame to an Excel file\n",
    "player_prices.to_excel(excel_file_path, index=False)\n",
    "\n",
    "print(f\"Player statistics saved to {excel_file_path}\")\n",
    "\n",
    "# Specify the file path where you want to save the Excel file\n",
    "excel_file_path = 'friends_prices.xlsx'\n",
    "\n",
    "# Save the DataFrame to an Excel file\n",
    "dataframeTeamsFriends.to_excel(excel_file_path, index=False)\n",
    "\n",
    "print(f\"Friends stats saved to {excel_file_path}\")"
   ]
  }
 ],
 "metadata": {
  "kernelspec": {
   "display_name": "Python 3",
   "language": "python",
   "name": "python3"
  },
  "language_info": {
   "codemirror_mode": {
    "name": "ipython",
    "version": 3
   },
   "file_extension": ".py",
   "mimetype": "text/x-python",
   "name": "python",
   "nbconvert_exporter": "python",
   "pygments_lexer": "ipython3",
   "version": "3.9.6"
  }
 },
 "nbformat": 4,
 "nbformat_minor": 2
}
