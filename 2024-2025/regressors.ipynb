{
 "cells": [
  {
   "cell_type": "code",
   "execution_count": 2,
   "metadata": {},
   "outputs": [],
   "source": [
    "import pandas as pd\n",
    "import numpy as np\n",
    "import matplotlib.pyplot as plt\n",
    "import joblib\n",
    "\n",
    "from scipy.stats import norm\n",
    "from sklearn.gaussian_process import GaussianProcessRegressor\n",
    "from sklearn.multioutput import MultiOutputRegressor\n",
    "from sklearn.svm import SVR\n",
    "from sklearn.gaussian_process.kernels import RBF\n",
    "from sklearn.gaussian_process.kernels import RationalQuadratic\n",
    "from sklearn.model_selection import cross_val_score\n",
    "from sklearn.model_selection import RepeatedKFold\n",
    "from sklearn.linear_model import Ridge\n",
    "from sklearn.linear_model import Lasso\n",
    "from sklearn.linear_model import LinearRegression\n",
    "from sklearn.preprocessing import StandardScaler\n",
    "from sklearn.model_selection import validation_curve\n",
    "\n",
    "import utility"
   ]
  },
  {
   "cell_type": "markdown",
   "metadata": {},
   "source": [
    "Every year I have to put the mean of the previous years to increase the accuracy of the regressors"
   ]
  },
  {
   "cell_type": "markdown",
   "metadata": {},
   "source": [
    "## Load Datasets"
   ]
  },
  {
   "cell_type": "code",
   "execution_count": 3,
   "metadata": {},
   "outputs": [
    {
     "name": "stdout",
     "output_type": "stream",
     "text": [
      "(539, 26)\n",
      "      Id Role          Name     Squad  Price  MyRating          Mate  \\\n",
      "0   4431    P   Carnesecchi  Atalanta     10       3.5         Musso   \n",
      "1   2792    P         Musso  Atalanta      5       3.8   Carnesecchi   \n",
      "2   2297    P      Rossi F.  Atalanta      1       3.2           NaN   \n",
      "3    554    D    Zappacosta  Atalanta     15       4.1          Holm   \n",
      "4   5067    D        Bakker  Atalanta     11       3.8       Ruggeri   \n",
      "5   5526    D      Scalvini  Atalanta     10       4.0           NaN   \n",
      "6   5678    D          Holm  Atalanta     10       3.9    Zappacosta   \n",
      "7   2640    D     Kolasinac  Atalanta      9       3.9           NaN   \n",
      "8    695    D         Toloi  Atalanta      8       3.4      Djimsiti   \n",
      "9    787    D      Djimsiti  Atalanta      8       3.4         Toloi   \n",
      "10  2181    D      Palomino  Atalanta      6       3.3           NaN   \n",
      "11  2130    D      Hateboer  Atalanta      6       3.6           NaN   \n",
      "12  4433    D        Zortea  Atalanta      5       3.3           NaN   \n",
      "13  5354    D       Ruggeri  Atalanta      5       3.3        Bakker   \n",
      "14  6444    D      Bonfanti  Atalanta      1       2.6           NaN   \n",
      "15  5685    C   Koopmeiners  Atalanta     24       4.7           NaN   \n",
      "16  2077    C       Pasalic  Atalanta     13       3.7  Ederson D.s.   \n",
      "17  5792    C  Ederson D.s.  Atalanta     12       3.4       Pasalic   \n",
      "18    22    C       De Roon  Atalanta     11       3.4           NaN   \n",
      "19  5001    C     Miranchuk  Atalanta      9       3.7           NaN   \n",
      "20  5995    C  De Ketelaere  Atalanta      9       3.4       Lookman   \n",
      "21  4870    C         Adopo  Atalanta      3       3.1           NaN   \n",
      "22  2137    A      Scamacca  Atalanta     27       4.0        Muriel   \n",
      "23  4730    A       Lookman  Atalanta     24       4.2  De Ketelaere   \n",
      "24  6229    A     Toure' E.  Atalanta     15       3.4           NaN   \n",
      "25   507    A        Muriel  Atalanta     13       3.1      Scamacca   \n",
      "26   133    P     Skorupski   Bologna     10       3.9           NaN   \n",
      "27  2722    P   Ravaglia F.   Bologna      1       3.1           NaN   \n",
      "28  5822    P     Bagnolini   Bologna      1       2.9           NaN   \n",
      "29  6066    D         Posch   Bologna     15       4.7           NaN   \n",
      "\n",
      "    Regularness  FVM  Age  ...  Pg20_21  Mv20_21  Mf20_21  Pg19_20  Mv19_20  \\\n",
      "0             3   10   23  ...        0     0.00     0.00        0     0.00   \n",
      "1             4   28   29  ...       35     6.13     4.60       38     6.28   \n",
      "2             1    1   28  ...        0     0.00     0.00        1     6.00   \n",
      "3             4   41   31  ...       25     6.22     6.72        9     5.72   \n",
      "4             4   23   23  ...        0     0.00     0.00        0     0.00   \n",
      "5             5   30   20  ...        0     0.00     0.00        0     0.00   \n",
      "6             3   20   26  ...        0     0.00     0.00        0     0.00   \n",
      "7             5   22   30  ...        0     0.00     0.00        0     0.00   \n",
      "8             4   12   33  ...       31     5.94     5.97       33     6.18   \n",
      "9             3   16   30  ...       33     6.09     6.03       34     6.07   \n",
      "10            3    8   33  ...       36     5.97     6.05       30     5.97   \n",
      "11            3   10   29  ...       22     6.16     6.41       32     5.88   \n",
      "12            2    4   24  ...        0     0.00     0.00        0     0.00   \n",
      "13            3   10   21  ...        6     5.50     5.50        0     0.00   \n",
      "14            1    1   21  ...        0     0.00     0.00        0     0.00   \n",
      "15            5  112   25  ...        0     0.00     0.00        0     0.00   \n",
      "16            3   30   28  ...       25     6.08     7.00       35     6.15   \n",
      "17            4   20   24  ...        0     0.00     0.00        0     0.00   \n",
      "18            5   18   32  ...       35     6.07     6.06       35     5.97   \n",
      "19            3    8   28  ...       25     6.22     7.03        0     0.00   \n",
      "20            3   41   22  ...        0     0.00     0.00        0     0.00   \n",
      "21            1    4   23  ...        0     0.00     0.00        2     0.00   \n",
      "22            4  220   24  ...       26     6.17     7.08        0     0.00   \n",
      "23            4  155   27  ...        0     0.00     0.00        0     0.00   \n",
      "24            2   45   23  ...        0     0.00     0.00        0     0.00   \n",
      "25            3   38   32  ...       36     6.67     8.92       34     6.32   \n",
      "26            5   32   32  ...       28     6.09     4.64       37     5.99   \n",
      "27            2    1   26  ...        4     5.88     3.38        0     0.00   \n",
      "28            1    1   19  ...        0     0.00     0.00        0     0.00   \n",
      "29            5   46   26  ...        0     0.00     0.00        0     0.00   \n",
      "\n",
      "    Mf19_20  Pg18_19  Mv18_19  Mf18_19  ExpectedMf  \n",
      "0      0.00        0     0.00     0.00        4.71  \n",
      "1      5.08       29     6.26     4.81        4.85  \n",
      "2      5.00        1     0.00     0.00        4.81  \n",
      "3      5.83        0     0.00     0.00        6.19  \n",
      "4      0.00        0     0.00     0.00        6.05  \n",
      "5      0.00        0     0.00     0.00        6.24  \n",
      "6      0.00        0     0.00     0.00        6.18  \n",
      "7      0.00        0     0.00     0.00        6.15  \n",
      "8      6.35       21     6.07     6.19        5.90  \n",
      "9      6.21       24     5.84     5.86        5.84  \n",
      "10     6.05       30     6.05     6.07        5.89  \n",
      "11     5.85       35     6.06     6.57        6.13  \n",
      "12     0.00        0     0.00     0.00        6.03  \n",
      "13     0.00        0     0.00     0.00        5.82  \n",
      "14     0.00        0     0.00     0.00        5.78  \n",
      "15     0.00        0     0.00     0.00        7.18  \n",
      "16     6.88       33     5.89     6.45        6.39  \n",
      "17     0.00        0     0.00     0.00        6.09  \n",
      "18     6.06       35     6.01     6.10        6.17  \n",
      "19     0.00        0     0.00     0.00        6.75  \n",
      "20     0.00        0     0.00     0.00        5.91  \n",
      "21     0.00        0     0.00     0.00        6.29  \n",
      "22     0.00        0     0.00     0.00        7.37  \n",
      "23     0.00        0     0.00     0.00        7.93  \n",
      "24     0.00        0     0.00     0.00        6.79  \n",
      "25     7.98       19     6.00     6.92        6.23  \n",
      "26     4.31       38     6.11     4.62        4.93  \n",
      "27     0.00        0     0.00     0.00        4.79  \n",
      "28     0.00        0     0.00     0.00        4.51  \n",
      "29     0.00        0     0.00     0.00        6.70  \n",
      "\n",
      "[30 rows x 26 columns]\n",
      "(539, 4)\n",
      "           Name        mean        std  count\n",
      "0       Abraham    1.000000   1.000000      1\n",
      "1        Acerbi    6.692308   3.250247     13\n",
      "2   Alex Sandro    4.000000   4.242641      2\n",
      "3      Almqvist    4.785714   6.459085     14\n",
      "4         Aouar   13.714286   8.870249     14\n",
      "5    Arnautovic   32.785714  15.373196     14\n",
      "6   Arthur Melo    2.250000   2.549510      8\n",
      "7        Audero    1.000000   0.000000     13\n",
      "8       Augello    1.833333   0.983192      6\n",
      "9        Azmoun    1.500000   0.707107      2\n",
      "10      Bajrami    5.500000   3.897731     14\n",
      "11       Bakker    8.000000   5.291503     12\n",
      "12     Baldanzi   10.714286   6.119685     14\n",
      "13        Banda    3.000000   1.000000      1\n",
      "14        Barak    2.000000   1.000000      1\n",
      "15      Barella   74.785714  10.123686     14\n",
      "16  Barrenechea    1.000000   1.000000      1\n",
      "17  Baschirotto   10.142857   3.416186     14\n",
      "18      Bastoni   31.357143   6.523415     14\n",
      "19   Bastoni S.    7.272727   6.357530     11\n",
      "20    Bellanova    4.857143   3.655494     14\n",
      "21      Belotti    5.928571   9.864188     14\n",
      "22   Beltran L.   14.071429   7.670767     14\n",
      "23      Berardi  176.357143  38.211169     14\n",
      "24      Berisha    1.500000   0.707107      2\n",
      "25      Beukema    2.200000   1.303840      5\n",
      "26        Bijol    4.500000   3.424511     12\n",
      "27      Biraghi   30.500000  10.552069     14\n",
      "28   Birindelli    1.000000   1.000000      1\n",
      "29      Bisseck    1.000000   1.000000      1\n",
      "SQUADS\n",
      "Summary Squads\n",
      "{'Atalanta': 4, 'Bologna': 3, 'Cagliari': 1, 'Empoli': 1, 'Fiorentina': 4, 'Frosinone': 2, 'Genoa': 3, 'Inter': 5, 'Juventus': 5, 'Lazio': 4, 'Lecce': 3, 'Milan': 5, 'Monza': 2, 'Napoli': 5, 'Roma': 4, 'Salernitana': 3, 'Sassuolo': 3, 'Torino': 3, 'Udinese': 1, 'Verona': 2}\n"
     ]
    }
   ],
   "source": [
    "# load and summarize the dataset\n",
    "# load ratings dataset\n",
    "urlT = 'output_rp.csv'\n",
    "dataframe_ratings = pd.read_csv(urlT, header=0)\n",
    "# summarize shape\n",
    "print(dataframe_ratings.shape)\n",
    "# summarize first few lines\n",
    "print(dataframe_ratings.head(30))\n",
    "# load prices datasets\n",
    "urlT = 'player_prices.xlsx'\n",
    "dataframe_prices = pd.read_excel('player_prices.xlsx')\n",
    "# summarize shape\n",
    "print(dataframe_prices.shape)\n",
    "# summarize first few lines\n",
    "print(dataframe_prices.head(30))\n",
    "\n",
    "# load dataset squads\n",
    "print(\"SQUADS\")\n",
    "urlSquads = 'squads.csv'\n",
    "dataframe_squads = pd.read_csv(urlSquads, header=0, index_col=None)\n",
    "dataframe_squads.set_index(\"Name\", inplace=True)\n",
    "squads_dict = dataframe_squads['Value'].to_dict()\n",
    "# summarize first few lines\n",
    "print(\"Summary Squads\")\n",
    "print(squads_dict)"
   ]
  },
  {
   "cell_type": "markdown",
   "metadata": {},
   "source": [
    "## Create sub datasets for regressions"
   ]
  },
  {
   "cell_type": "code",
   "execution_count": 4,
   "metadata": {},
   "outputs": [],
   "source": [
    "columns_to_keep = [\"Role\", \"Name\", \"Squad\", \"Price\", \"MyRating\", \"Regularness\", \"FVM\", \"ExpectedMf\", \"mean\", \"std\", \"count\"]\n",
    "\n",
    "roles = [\"P\", \"D\", \"C\", \"A\"]"
   ]
  },
  {
   "cell_type": "code",
   "execution_count": 5,
   "metadata": {},
   "outputs": [
    {
     "name": "stdout",
     "output_type": "stream",
     "text": [
      "MERGED DATASET\n",
      "    Role         Name  Squad  Price  MyRating  Regularness  FVM  ExpectedMf  \\\n",
      "0      P  Carnesecchi      4     10       3.5            3   10        4.71   \n",
      "1      P        Musso      4      5       3.8            4   28        4.85   \n",
      "2      P     Rossi F.      4      1       3.2            1    1        4.81   \n",
      "3      D   Zappacosta      4     15       4.1            4   41        6.19   \n",
      "4      D       Bakker      4     11       3.8            4   23        6.05   \n",
      "..   ...          ...    ...    ...       ...          ...  ...         ...   \n",
      "534    A        Henry      2     11       3.2            2    6        7.07   \n",
      "535    A       Djuric      2     10       2.7            4   10        5.84   \n",
      "536    A    Bonazzoli      2      8       3.2            3    8        7.03   \n",
      "537    A        Braaf      2      1       2.5            1    1        6.33   \n",
      "538    A       Kallon      2      1       2.7            1    2        6.36   \n",
      "\n",
      "          mean       std  count  \n",
      "0     2.000000  2.218801     14  \n",
      "1    21.714286  7.936562     14  \n",
      "2     1.000000  1.000000      1  \n",
      "3    37.142857  6.893220     14  \n",
      "4     8.000000  5.291503     12  \n",
      "..         ...       ...    ...  \n",
      "534   1.000000  0.000000      2  \n",
      "535   4.750000  7.500000      4  \n",
      "536   1.000000  0.000000      6  \n",
      "537   1.000000  1.000000      0  \n",
      "538   1.000000  1.000000      0  \n",
      "\n",
      "[539 rows x 11 columns]\n",
      "    Role       Name  Squad  Price  MyRating  Regularness  FVM  ExpectedMf  \\\n",
      "22     A   Scamacca      4     27       4.0            4  220        7.37   \n",
      "23     A    Lookman      4     24       4.2            4  155        7.93   \n",
      "24     A  Toure' E.      4     15       3.4            2   45        6.79   \n",
      "25     A     Muriel      4     13       3.1            3   38        6.23   \n",
      "50     A    Zirkzee      3     13       3.4            5   71        6.69   \n",
      "..   ...        ...    ...    ...       ...          ...  ...         ...   \n",
      "534    A      Henry      2     11       3.2            2    6        7.07   \n",
      "535    A     Djuric      2     10       2.7            4   10        5.84   \n",
      "536    A  Bonazzoli      2      8       3.2            3    8        7.03   \n",
      "537    A      Braaf      2      1       2.5            1    1        6.33   \n",
      "538    A     Kallon      2      1       2.7            1    2        6.36   \n",
      "\n",
      "           mean        std  count  \n",
      "22   161.642857  28.864690     14  \n",
      "23    45.857143  14.292855     14  \n",
      "24     1.000000   1.000000      1  \n",
      "25     2.100000   1.728840     10  \n",
      "50    36.642857  14.642442     14  \n",
      "..          ...        ...    ...  \n",
      "534    1.000000   0.000000      2  \n",
      "535    4.750000   7.500000      4  \n",
      "536    1.000000   0.000000      6  \n",
      "537    1.000000   1.000000      0  \n",
      "538    1.000000   1.000000      0  \n",
      "\n",
      "[102 rows x 11 columns]\n"
     ]
    }
   ],
   "source": [
    "# Create the merged dataset\n",
    "dataframe_merge = pd.merge(dataframe_ratings, dataframe_prices, on='Name', how='inner')\n",
    "# Drop useless columns\n",
    "dataframe_merge = dataframe_merge.drop(dataframe_merge.columns.difference(columns_to_keep), axis=1)\n",
    "# Substitute Squads with their values\n",
    "dataframe_merge['Squad'] = dataframe_merge['Squad'].map(squads_dict)\n",
    "\n",
    "print(\"MERGED DATASET\")\n",
    "print(dataframe_merge)\n",
    "\n",
    "# Create the subsets for Role\n",
    "dataframe_A = dataframe_merge[dataframe_merge[\"Role\"] == 'A']\n",
    "dataframe_C = dataframe_merge[dataframe_merge[\"Role\"] == 'C']\n",
    "dataframe_D = dataframe_merge[dataframe_merge[\"Role\"] == 'D']\n",
    "dataframe_P = dataframe_merge[dataframe_merge[\"Role\"] == 'P']\n",
    "\n",
    "print(dataframe_A)"
   ]
  },
  {
   "cell_type": "markdown",
   "metadata": {},
   "source": [
    "### Trial Regression with mean and std"
   ]
  },
  {
   "cell_type": "markdown",
   "metadata": {},
   "source": [
    "**GPR**\n",
    "\n",
    "After inspecting the behaviour of this model I concluded it does not fit our problem."
   ]
  },
  {
   "cell_type": "code",
   "execution_count": 6,
   "metadata": {},
   "outputs": [
    {
     "name": "stdout",
     "output_type": "stream",
     "text": [
      "Mean MSE: 283.122 (287.092)\n",
      "Predicted mean: [[190.77202634  23.00154827]]\n"
     ]
    }
   ],
   "source": [
    "# Get the data to fit\n",
    "data = dataframe_A.values\n",
    "X, y = data[:, 2:-4], data[:, -3:-1]\n",
    "\n",
    "# Define kernel\n",
    "kernel = RationalQuadratic(length_scale=1)\n",
    "\n",
    "# Fit the GP model\n",
    "gp_model = GaussianProcessRegressor(kernel=kernel)\n",
    "\n",
    "# define model evaluation method\n",
    "cv = RepeatedKFold(n_splits=10, n_repeats=8, random_state=42)\n",
    "# evaluate model\n",
    "scores = cross_val_score(gp_model, X, y, scoring='neg_mean_squared_error', cv=cv, n_jobs=-1)\n",
    "# force scores to be positive\n",
    "scores = np.abs(scores)\n",
    "print('Mean MSE: %.3f (%.3f)' % (np.mean(scores), np.std(scores)))\n",
    "\n",
    "gp_model.fit(X, y)\n",
    "\n",
    "# Predict\n",
    "row = [\n",
    "        [5, 37, 4.5, 5, 400]\n",
    "    ]\n",
    "predicted_mean, predicted_std = gp_model.predict(row, return_std=True)\n",
    "\n",
    "print(f\"Predicted mean: {predicted_mean}\")\n"
   ]
  },
  {
   "cell_type": "markdown",
   "metadata": {},
   "source": [
    "**Ridge**\n",
    "\n",
    "Has the behaviour we want and from previous takes it performs better than Linear Regression"
   ]
  },
  {
   "cell_type": "code",
   "execution_count": 7,
   "metadata": {},
   "outputs": [
    {
     "name": "stdout",
     "output_type": "stream",
     "text": [
      "Mean MSE: 139.384 (108.956)\n"
     ]
    },
    {
     "data": {
      "text/plain": [
       "array([[334.06547347,  42.42942749]])"
      ]
     },
     "execution_count": 7,
     "metadata": {},
     "output_type": "execute_result"
    }
   ],
   "source": [
    "# Get the data to fit\n",
    "data = dataframe_A.values\n",
    "X, y = data[:, 2:-4], data[:, -3:-1]\n",
    "\n",
    "# Define model\n",
    "model = Ridge(alpha=1.5)\n",
    "# define model evaluation method\n",
    "cv = RepeatedKFold(n_splits=10, n_repeats=8, random_state=42)\n",
    "# evaluate model\n",
    "scores = cross_val_score(model, X, y, scoring='neg_mean_squared_error', cv=cv, n_jobs=-1)\n",
    "# force scores to be positive\n",
    "scores = np.abs(scores)\n",
    "print('Mean MSE: %.3f (%.3f)' % (np.mean(scores), np.std(scores)))\n",
    "model.fit(X, y)\n",
    "\n",
    "row = [[5, 20, 3.5, 5, 420]]\n",
    "model.predict(row)"
   ]
  },
  {
   "cell_type": "markdown",
   "metadata": {},
   "source": [
    "**Lasso**\n",
    "\n",
    "Has the behaviour we want and from previous takes it performs better than Linear Regression"
   ]
  },
  {
   "cell_type": "code",
   "execution_count": 53,
   "metadata": {},
   "outputs": [
    {
     "name": "stdout",
     "output_type": "stream",
     "text": [
      "Mean MSE: 140.015 (111.970)\n"
     ]
    },
    {
     "data": {
      "text/plain": [
       "array([[135.08139252,  24.3643135 ]])"
      ]
     },
     "execution_count": 53,
     "metadata": {},
     "output_type": "execute_result"
    }
   ],
   "source": [
    "# Get the data to fit\n",
    "data = dataframe_A.values\n",
    "X, y = data[:, 2:-4], data[:, -3:-1]\n",
    "\n",
    "# Define model\n",
    "model = Lasso(alpha=1)\n",
    "# define model evaluation method\n",
    "cv = RepeatedKFold(n_splits=10, n_repeats=8, random_state=42)\n",
    "# evaluate model\n",
    "scores = cross_val_score(model, X, y, scoring='neg_mean_squared_error', cv=cv, n_jobs=-1)\n",
    "# force scores to be positive\n",
    "scores = np.abs(scores)\n",
    "print('Mean MSE: %.3f (%.3f)' % (np.mean(scores), np.std(scores)))\n",
    "model.fit(X, y)\n",
    "\n",
    "row = [[5, 40, 4.4, 5, 250]]\n",
    "model.predict(row)"
   ]
  },
  {
   "cell_type": "markdown",
   "metadata": {},
   "source": [
    "**Linear Regression**"
   ]
  },
  {
   "cell_type": "code",
   "execution_count": 440,
   "metadata": {},
   "outputs": [
    {
     "name": "stdout",
     "output_type": "stream",
     "text": [
      "Mean MSE: 125.594 (97.359)\n"
     ]
    },
    {
     "data": {
      "text/plain": [
       "array([[167.70427997,  25.32717582]])"
      ]
     },
     "execution_count": 440,
     "metadata": {},
     "output_type": "execute_result"
    }
   ],
   "source": [
    "# Get the data to fit\n",
    "data = dataframe_A.values\n",
    "X, y = data[:, 2:-3], data[:, -3:-1]\n",
    "\n",
    "# Create a linear regression model\n",
    "model = LinearRegression()\n",
    "# define model evaluation method\n",
    "cv = RepeatedKFold(n_splits=10, n_repeats=8, random_state=42)\n",
    "# evaluate model\n",
    "scores = cross_val_score(model, X, y, scoring='neg_mean_squared_error', cv=cv, n_jobs=-1)\n",
    "# force scores to be positive\n",
    "scores = np.abs(scores)\n",
    "print('Mean MSE: %.3f (%.3f)' % (np.mean(scores), np.std(scores)))\n",
    "model.fit(X, y)\n",
    "\n",
    "row = [[5, 20, 4.2, 4, 250]]\n",
    "model.predict(row)"
   ]
  },
  {
   "cell_type": "markdown",
   "metadata": {},
   "source": [
    "**SVM**"
   ]
  },
  {
   "cell_type": "code",
   "execution_count": 56,
   "metadata": {},
   "outputs": [
    {
     "name": "stdout",
     "output_type": "stream",
     "text": [
      "Mean MSE: 147.597 (130.852)\n"
     ]
    },
    {
     "data": {
      "text/plain": [
       "array([[92.28380825, 19.98913454]])"
      ]
     },
     "execution_count": 56,
     "metadata": {},
     "output_type": "execute_result"
    }
   ],
   "source": [
    "# Get the data to fit\n",
    "data = dataframe_A.values\n",
    "X, y = data[:, 2:-4], data[:, -3:-1]\n",
    "\n",
    "# Create an SVR model\n",
    "svr = SVR(kernel='linear')  # You can choose different kernels like 'rbf', 'poly', etc.\n",
    "\n",
    "# Wrap SVR into MultiOutputRegressor\n",
    "model = MultiOutputRegressor(svr)\n",
    "# define model evaluation method\n",
    "cv = RepeatedKFold(n_splits=10, n_repeats=8, random_state=42)\n",
    "# evaluate model\n",
    "scores = cross_val_score(model, X, y, scoring='neg_mean_squared_error', cv=cv, n_jobs=-1)\n",
    "# force scores to be positive\n",
    "scores = np.abs(scores)\n",
    "print('Mean MSE: %.3f (%.3f)' % (np.mean(scores), np.std(scores)))\n",
    "model.fit(X, y)\n",
    "\n",
    "row = [[4, 50, 3.5, 5, 200]]\n",
    "model.predict(row)"
   ]
  },
  {
   "cell_type": "markdown",
   "metadata": {},
   "source": [
    "## GPR Regressors"
   ]
  },
  {
   "cell_type": "markdown",
   "metadata": {},
   "source": [
    "**Attackers**"
   ]
  },
  {
   "cell_type": "code",
   "execution_count": 575,
   "metadata": {},
   "outputs": [
    {
     "name": "stdout",
     "output_type": "stream",
     "text": [
      "Mean MSE: 313.279 (334.262)\n",
      "[['A' 'Beltran L.' 4 15 3.0 3 61 14.07142857142857 7.670766541921304 14\n",
      "  14 8]\n",
      " ['A' 'Brekalo' 4 11 2.7 3 17 1.0 1.0 1 1 1]\n",
      " ['A' \"Kouame'\" 4 8 2.0 3 8 1.0 0.0 2 1 0]\n",
      " ['A' 'Cheddira' 2 10 2.0 5 28 5.538461538461538 4.858247019508591 13 6 5]\n",
      " ['A' 'Caso' 2 6 2.0 3 12 1.0 1.0 0 1 1]\n",
      " ['A' \"Soule'\" 2 4 2.0 4 14 1.571428571428571 0.9759000729485332 7 2 1]\n",
      " ['A' 'Cuni' 2 4 1.0 2 5 1.0 1.0 0 1 1]\n",
      " ['A' 'Kvernadze' 2 3 1.0 1 6 1.0 1.0 0 1 1]\n",
      " ['A' 'Kaio Jorge' 2 1 1.0 1 9 1.0 0.0 6 1 0]\n",
      " ['A' 'Bidaoui' 2 1 1.0 1 1 1.0 1.0 0 1 1]\n",
      " ['A' 'Retegui' 3 23 4.0 5 128 64.71428571428571 15.27908863285207 14 65\n",
      "  15]\n",
      " ['A' 'Ekuban' 3 3 1.0 2 2 1.0 1.0 0 1 1]\n",
      " ['A' 'Puscas' 3 1 1.0 1 2 1.0 1.0 0 1 1]\n",
      " ['A' 'Yalcin' 3 1 1.0 1 1 1.0 1.0 0 1 1]\n",
      " ['A' 'Martinez L.' 5 40 4.8 5 436 331.6428571428572 38.15677607502447 14\n",
      "  332 38]\n",
      " ['A' 'Thuram' 5 25 4.0 4 180 131.9285714285714 20.5817853965561 14 132\n",
      "  21]\n",
      " ['A' 'Arnautovic' 5 23 3.6 3 122 32.78571428571428 15.37319631160563 14\n",
      "  33 15]\n",
      " ['A' 'Sanchez' 5 14 3.6 3 44 1.2 0.4472135954999579 5 1 0]\n",
      " ['A' 'Vlahovic' 5 28 4.6 4 342 259.3571428571428 32.7639744533233 14 259\n",
      "  33]\n",
      " ['A' 'Chiesa' 5 19 3.6 5 142 91.14285714285714 22.38081988893836 14 91\n",
      "  22]\n",
      " ['A' 'Milik' 5 18 3.3 3 92 19.21428571428572 10.46002332273155 14 19 10]\n",
      " ['A' 'Kean' 5 10 2.9 2 20 2.0 1.732050807568877 3 2 2]\n",
      " ['A' 'Yildiz' 5 1 1.0 1 1 1.0 1.0 0 1 1]\n",
      " ['A' 'Immobile' 4 31 4.6 5 327 245.7857142857143 31.40842261223908 14\n",
      "  246 31]\n",
      " ['A' 'Castellanos' 4 12 2.0 3 28 2.333333333333333 2.82842712474619 9 2\n",
      "  3]\n",
      " ['A' 'Pedro' 4 11 2.9 2 18 1.0 0.0 3 1 0]\n",
      " ['A' 'Isaksen' 4 11 2.0 3 21 1.0 1.0 1 1 1]\n",
      " ['A' 'Krstovic' 3 13 3.0 5 66 24.35714285714286 12.41343653439315 14 24\n",
      "  12]\n",
      " ['A' 'Almqvist' 3 11 2.0 4 28 4.785714285714286 6.459085091542007 14 5 6]\n",
      " ['A' 'Banda' 3 9 2.0 3 16 3.0 1.0 1 3 1]\n",
      " ['A' 'Piccoli' 3 7 2.1 3 8 1.0 1.0 0 1 1]\n",
      " ['A' 'Burnete' 3 1 1.0 1 2 1.0 1.0 0 1 1]\n",
      " ['A' 'Corfitzen' 3 1 1.0 1 1 1.0 1.0 0 1 1]\n",
      " ['A' 'Rafael Leao' 5 32 4.6 5 282 192.4285714285714 41.25663449810091 14\n",
      "  192 41]\n",
      " ['A' 'Giroud' 5 28 4.0 5 200 149.1428571428571 30.35395587666684 14 149\n",
      "  30]\n",
      " ['A' 'Okafor' 5 16 3.0 3 52 2.5 2.315952582337636 12 3 2]\n",
      " ['A' 'Jovic' 5 13 2.7 3 28 1.181818181818182 0.4045199174779452 11 1 0]\n",
      " ['A' 'Caprari' 2 14 2.9 5 41 8.214285714285714 9.022864728681679 14 8 9]\n",
      " ['A' 'Mota' 2 10 2.7 3 16 1.0 0.0 3 1 0]\n",
      " ['A' 'Colombo' 2 9 2.3 4 40 7.5 8.446665250035297 14 7 8]\n",
      " ['A' 'Maric' 2 2 1.0 1 1 1.0 1.0 0 1 1]\n",
      " ['A' 'Osimhen' 5 44 4.9 5 442 320.2142857142857 16.93053032668669 14 320\n",
      "  17]\n",
      " ['A' 'Kvaratskhelia' 5 30 4.6 5 261 129.2142857142857 39.43286128916528\n",
      "  14 129 39]\n",
      " ['A' 'Simeone' 5 12 3.0 3 30 3.076923076923077 3.402487777630227 13 3 3]\n",
      " ['A' 'Raspadori' 5 9 2.6 3 35 10.0 8.296585643102429 13 10 8]\n",
      " ['A' 'Lukaku' 4 30 4.7 5 312 231.7857142857143 29.01770963614241 14 232\n",
      "  29]\n",
      " ['A' 'Dybala' 4 28 4.6 5 286 120.2857142857143 21.9244456869796 14 120\n",
      "  22]\n",
      " ['A' 'Abraham' 4 14 3.6 3 50 1.0 1.0 1 1 1]\n",
      " ['A' 'Belotti' 4 12 3.0 3 52 5.928571428571429 9.864187640256942 14 6 10]\n",
      " ['A' 'Azmoun' 4 12 3.0 1 40 1.5 0.7071067811865476 2 2 1]\n",
      " ['A' 'Dia' 3 26 4.6 5 156 36.21428571428572 16.80283204805561 14 36 17]\n",
      " ['A' 'Botheim' 3 7 1.4 3 10 1.0 1.0 1 1 1]\n",
      " ['A' 'Jovane' 3 5 1.0 2 8 1.0 1.0 0 1 1]\n",
      " ['A' 'Ikwuemesi' 3 2 1.0 1 2 1.0 1.0 0 1 1]\n",
      " ['A' 'Valencia D.' 3 1 1.0 1 1 1.0 1.0 0 1 1]\n",
      " ['A' 'Stewart' 3 1 1.0 1 1 1.0 1.0 0 1 1]\n",
      " ['A' 'Berardi' 3 30 4.6 5 271 176.3571428571429 38.21116861067463 14 176\n",
      "  38]\n",
      " ['A' \"Lauriente'\" 3 21 3.6 5 105 28.07142857142857 11.09722269977275 14\n",
      "  28 11]\n",
      " ['A' 'Pinamonti' 3 13 2.4 4 57 27.64285714285714 16.91884312674046 14 28\n",
      "  17]\n",
      " ['A' 'Mulattieri' 3 11 2.0 3 22 5.5 6.363961030678928 2 5 6]]\n",
      "prices_A.csv\n"
     ]
    },
    {
     "ename": "NameError",
     "evalue": "name 'can' is not defined",
     "output_type": "error",
     "traceback": [
      "\u001b[1;31m---------------------------------------------------------------------------\u001b[0m",
      "\u001b[1;31mNameError\u001b[0m                                 Traceback (most recent call last)",
      "\u001b[1;32mc:\\Users\\dulio\\Desktop\\FantaHelp\\2024-2025\\regressors.ipynb Cell 18\u001b[0m line \u001b[0;36m3\n\u001b[0;32m     <a href='vscode-notebook-cell:/c%3A/Users/dulio/Desktop/FantaHelp/2024-2025/regressors.ipynb#X45sZmlsZQ%3D%3D?line=33'>34</a>\u001b[0m name \u001b[39m=\u001b[39m \u001b[39m'\u001b[39m\u001b[39mprices_A.csv\u001b[39m\u001b[39m'\u001b[39m\n\u001b[0;32m     <a href='vscode-notebook-cell:/c%3A/Users/dulio/Desktop/FantaHelp/2024-2025/regressors.ipynb#X45sZmlsZQ%3D%3D?line=34'>35</a>\u001b[0m \u001b[39mprint\u001b[39m(name)\n\u001b[1;32m---> <a href='vscode-notebook-cell:/c%3A/Users/dulio/Desktop/FantaHelp/2024-2025/regressors.ipynb#X45sZmlsZQ%3D%3D?line=35'>36</a>\u001b[0m can\n\u001b[0;32m     <a href='vscode-notebook-cell:/c%3A/Users/dulio/Desktop/FantaHelp/2024-2025/regressors.ipynb#X45sZmlsZQ%3D%3D?line=36'>37</a>\u001b[0m np\u001b[39m.\u001b[39msavetxt(name, tempJoint, delimiter\u001b[39m=\u001b[39m\u001b[39m'\u001b[39m\u001b[39m,\u001b[39m\u001b[39m'\u001b[39m, fmt\u001b[39m=\u001b[39m\u001b[39m'\u001b[39m\u001b[39m%s\u001b[39;00m\u001b[39m'\u001b[39m)\n\u001b[0;32m     <a href='vscode-notebook-cell:/c%3A/Users/dulio/Desktop/FantaHelp/2024-2025/regressors.ipynb#X45sZmlsZQ%3D%3D?line=37'>38</a>\u001b[0m nameEx \u001b[39m=\u001b[39m \u001b[39m'\u001b[39m\u001b[39mprices_A_ex.csv\u001b[39m\u001b[39m'\u001b[39m\n",
      "\u001b[1;31mNameError\u001b[0m: name 'can' is not defined"
     ]
    }
   ],
   "source": [
    "# Get the data to fit\n",
    "data = dataframe_A.values\n",
    "X, y = data[:, 2:-3], data[:, -3:-1]\n",
    "\n",
    "# Scale the data\n",
    "scaler = StandardScaler()\n",
    "X = scaler.fit_transform(X)\n",
    "\n",
    "# Define kernel\n",
    "kernel = RationalQuadratic(length_scale=0.1)\n",
    "\n",
    "# Fit the GP model\n",
    "model = GaussianProcessRegressor(kernel=kernel)\n",
    "# define model evaluation method\n",
    "cv = RepeatedKFold(n_splits=10, n_repeats=8, random_state=42)\n",
    "# evaluate model\n",
    "scores = cross_val_score(model, X, y, scoring='neg_mean_squared_error', cv=cv, n_jobs=-1)\n",
    "# force scores to be positive\n",
    "scores = np.abs(scores)\n",
    "print('Mean MSE: %.3f (%.3f)' % (np.mean(scores), np.std(scores)))\n",
    "model.fit(X, y)\n",
    "\n",
    "row = [[4, 30, 4.6, 5, 200]]\n",
    "row = scaler.transform(row)\n",
    "model.predict(row)\n",
    "\n",
    "temp = model.predict(X)\n",
    "temp = np.round(temp)\n",
    "temp = temp.astype(int)\n",
    "#temp = np.concatenate((['price'] , temp), axis=0)\n",
    "temp = np.vstack(temp)\n",
    "tempJoint = np.hstack((data, temp))\n",
    "print(tempJoint[20:80,:])\n",
    "name = 'prices_A.csv'\n",
    "print(name)\n",
    "can\n",
    "np.savetxt(name, tempJoint, delimiter=',', fmt='%s')\n",
    "nameEx = 'prices_A_ex.csv'\n",
    "np.savetxt(nameEx, tempJoint, delimiter=';', fmt='%s')\n",
    "# Save the model to a file\n",
    "joblib.dump(model, 'lasso_regressor_model_A.pkl')"
   ]
  },
  {
   "cell_type": "markdown",
   "metadata": {},
   "source": [
    "## Ridge Regressors"
   ]
  },
  {
   "cell_type": "markdown",
   "metadata": {},
   "source": [
    "**Attackers**"
   ]
  },
  {
   "cell_type": "code",
   "execution_count": 596,
   "metadata": {},
   "outputs": [
    {
     "name": "stdout",
     "output_type": "stream",
     "text": [
      "Mean MSE: 6.454 (1.305)\n"
     ]
    },
    {
     "data": {
      "text/plain": [
       "['ridge_regressor_model_A.pkl']"
      ]
     },
     "execution_count": 596,
     "metadata": {},
     "output_type": "execute_result"
    }
   ],
   "source": [
    "# Get the data to fit\n",
    "data = dataframe_A.values\n",
    "X, y = data[:, 2:-3], data[:, -3:-1]\n",
    "\n",
    "# Define model\n",
    "model = Ridge(alpha=1.5)\n",
    "# define model evaluation method\n",
    "cv = RepeatedKFold(n_splits=4, n_repeats=3, random_state=42)\n",
    "# evaluate model\n",
    "scores = cross_val_score(model, X, y, scoring='neg_mean_absolute_error', cv=cv, n_jobs=-1)\n",
    "# force scores to be positive\n",
    "scores = np.abs(scores)\n",
    "print('Mean MSE: %.3f (%.3f)' % (np.mean(scores), np.std(scores)))\n",
    "model.fit(X, y)\n",
    "\n",
    "row = [[4, 30, 4.6, 5, 200]]\n",
    "model.predict(row)\n",
    "\n",
    "# Save the model to a file\n",
    "joblib.dump(model, 'ridge_regressor_model_A.pkl')"
   ]
  },
  {
   "cell_type": "markdown",
   "metadata": {},
   "source": [
    "**Midfielders**"
   ]
  },
  {
   "cell_type": "code",
   "execution_count": 597,
   "metadata": {},
   "outputs": [
    {
     "name": "stdout",
     "output_type": "stream",
     "text": [
      "Mean MSE: 2.706 (0.587)\n"
     ]
    },
    {
     "data": {
      "text/plain": [
       "['ridge_regressor_model_C.pkl']"
      ]
     },
     "execution_count": 597,
     "metadata": {},
     "output_type": "execute_result"
    }
   ],
   "source": [
    "# Get the data to fit\n",
    "data = dataframe_C.values\n",
    "X, y = data[:, 2:-3], data[:, -3:-1]\n",
    "\n",
    "# Define model\n",
    "model = Ridge(alpha=1.5)\n",
    "# define model evaluation method\n",
    "cv = RepeatedKFold(n_splits=8, n_repeats=3, random_state=42)\n",
    "# evaluate model\n",
    "scores = cross_val_score(model, X, y, scoring='neg_mean_absolute_error', cv=cv, n_jobs=-1)\n",
    "# force scores to be positive\n",
    "scores = np.abs(scores)\n",
    "print('Mean MSE: %.3f (%.3f)' % (np.mean(scores), np.std(scores)))\n",
    "model.fit(X, y)\n",
    "\n",
    "row = [[4, 30, 3.5, 4, 150]]\n",
    "model.predict(row)\n",
    "\n",
    "# Save the model to a file\n",
    "joblib.dump(model, 'ridge_regressor_model_C.pkl')"
   ]
  },
  {
   "cell_type": "markdown",
   "metadata": {},
   "source": [
    "**Defenders**"
   ]
  },
  {
   "cell_type": "code",
   "execution_count": 598,
   "metadata": {},
   "outputs": [
    {
     "name": "stdout",
     "output_type": "stream",
     "text": [
      "Mean MSE: 2.063 (0.220)\n"
     ]
    },
    {
     "data": {
      "text/plain": [
       "['ridge_regressor_model_D.pkl']"
      ]
     },
     "execution_count": 598,
     "metadata": {},
     "output_type": "execute_result"
    }
   ],
   "source": [
    "# Get the data to fit\n",
    "data = dataframe_D.values\n",
    "X, y = data[:, 2:-3], data[:, -3:-1]\n",
    "\n",
    "# Define model\n",
    "model = Ridge(alpha=1.5)\n",
    "# define model evaluation method\n",
    "cv = RepeatedKFold(n_splits=4, n_repeats=3, random_state=42)\n",
    "# evaluate model\n",
    "scores = cross_val_score(model, X, y, scoring='neg_mean_absolute_error', cv=cv, n_jobs=-1)\n",
    "# force scores to be positive\n",
    "scores = np.abs(scores)\n",
    "print('Mean MSE: %.3f (%.3f)' % (np.mean(scores), np.std(scores)))\n",
    "model.fit(X, y)\n",
    "\n",
    "row = [[5, 15, 4, 5, 50]]\n",
    "model.predict(row)\n",
    "\n",
    "# Save the model to a file\n",
    "joblib.dump(model, 'ridge_regressor_model_D.pkl')"
   ]
  },
  {
   "cell_type": "markdown",
   "metadata": {},
   "source": [
    "**Keepers**"
   ]
  },
  {
   "cell_type": "code",
   "execution_count": 599,
   "metadata": {},
   "outputs": [
    {
     "name": "stdout",
     "output_type": "stream",
     "text": [
      "Mean MSE: 2.059 (0.423)\n"
     ]
    },
    {
     "data": {
      "text/plain": [
       "['ridge_regressor_model_P.pkl']"
      ]
     },
     "execution_count": 599,
     "metadata": {},
     "output_type": "execute_result"
    }
   ],
   "source": [
    "# Get the data to fit\n",
    "data = dataframe_P.values\n",
    "X, y = data[:, 2:-3], data[:, -3:-1]\n",
    "\n",
    "# Define model\n",
    "model = Ridge(alpha=1.5)\n",
    "# define model evaluation method\n",
    "cv = RepeatedKFold(n_splits=4, n_repeats=3, random_state=42)\n",
    "# evaluate model\n",
    "scores = cross_val_score(model, X, y, scoring='neg_mean_absolute_error', cv=cv, n_jobs=-1)\n",
    "# force scores to be positive\n",
    "scores = np.abs(scores)\n",
    "print('Mean MSE: %.3f (%.3f)' % (np.mean(scores), np.std(scores)))\n",
    "model.fit(X, y)\n",
    "\n",
    "row = [[5, 20, 4, 4, 80]]\n",
    "model.predict(row)\n",
    "# Save the model to a file\n",
    "joblib.dump(model, 'ridge_regressor_model_P.pkl')"
   ]
  },
  {
   "cell_type": "markdown",
   "metadata": {},
   "source": [
    "## Lasso Regressors"
   ]
  },
  {
   "cell_type": "markdown",
   "metadata": {},
   "source": [
    "**Attackers**"
   ]
  },
  {
   "cell_type": "code",
   "execution_count": 58,
   "metadata": {},
   "outputs": [
    {
     "name": "stdout",
     "output_type": "stream",
     "text": [
      "Mean MSE: 6.492 (1.464)\n"
     ]
    },
    {
     "data": {
      "text/plain": [
       "['lasso_regressor_model_A.pkl']"
      ]
     },
     "execution_count": 58,
     "metadata": {},
     "output_type": "execute_result"
    }
   ],
   "source": [
    "# Get the data to fit\n",
    "data = dataframe_A.values\n",
    "X, y = data[:, 2:-4], data[:, -3:-1]\n",
    "\n",
    "# Define model\n",
    "model = Lasso(alpha=1)\n",
    "# define model evaluation method\n",
    "cv = RepeatedKFold(n_splits=4, n_repeats=3, random_state=42)\n",
    "# evaluate model\n",
    "scores = cross_val_score(model, X, y, scoring='neg_mean_absolute_error', cv=cv, n_jobs=-1)\n",
    "# force scores to be positive\n",
    "scores = np.abs(scores)\n",
    "print('Mean MSE: %.3f (%.3f)' % (np.mean(scores), np.std(scores)))\n",
    "model.fit(X, y)\n",
    "\n",
    "row = [[4, 30, 4.6, 5, 200]]\n",
    "model.predict(row)\n",
    "\n",
    "# Save the model to a file\n",
    "joblib.dump(model, 'lasso_regressor_model_A.pkl')"
   ]
  },
  {
   "cell_type": "markdown",
   "metadata": {},
   "source": [
    "**Midfielders**"
   ]
  },
  {
   "cell_type": "code",
   "execution_count": 59,
   "metadata": {},
   "outputs": [
    {
     "name": "stdout",
     "output_type": "stream",
     "text": [
      "Mean MSE: 2.706 (0.579)\n"
     ]
    },
    {
     "data": {
      "text/plain": [
       "['lasso_regressor_model_C.pkl']"
      ]
     },
     "execution_count": 59,
     "metadata": {},
     "output_type": "execute_result"
    }
   ],
   "source": [
    "# Get the data to fit\n",
    "data = dataframe_C.values\n",
    "X, y = data[:, 2:-4], data[:, -3:-1]\n",
    "\n",
    "# Define model\n",
    "model = Lasso(alpha=1)\n",
    "# define model evaluation method\n",
    "cv = RepeatedKFold(n_splits=8, n_repeats=3, random_state=42)\n",
    "# evaluate model\n",
    "scores = cross_val_score(model, X, y, scoring='neg_mean_absolute_error', cv=cv, n_jobs=-1)\n",
    "# force scores to be positive\n",
    "scores = np.abs(scores)\n",
    "print('Mean MSE: %.3f (%.3f)' % (np.mean(scores), np.std(scores)))\n",
    "model.fit(X, y)\n",
    "\n",
    "row = [[4, 30, 3.5, 4, 150]]\n",
    "model.predict(row)\n",
    "\n",
    "# Save the model to a file\n",
    "joblib.dump(model, 'lasso_regressor_model_C.pkl')"
   ]
  },
  {
   "cell_type": "markdown",
   "metadata": {},
   "source": [
    "**Defenders**"
   ]
  },
  {
   "cell_type": "code",
   "execution_count": 60,
   "metadata": {},
   "outputs": [
    {
     "name": "stdout",
     "output_type": "stream",
     "text": [
      "Mean MSE: 2.194 (0.286)\n"
     ]
    },
    {
     "data": {
      "text/plain": [
       "['lasso_regressor_model_D.pkl']"
      ]
     },
     "execution_count": 60,
     "metadata": {},
     "output_type": "execute_result"
    }
   ],
   "source": [
    "# Get the data to fit\n",
    "data = dataframe_D.values\n",
    "X, y = data[:, 2:-4], data[:, -3:-1]\n",
    "\n",
    "# Define model\n",
    "model = Lasso(alpha=1)\n",
    "# define model evaluation method\n",
    "cv = RepeatedKFold(n_splits=4, n_repeats=3, random_state=42)\n",
    "# evaluate model\n",
    "scores = cross_val_score(model, X, y, scoring='neg_mean_absolute_error', cv=cv, n_jobs=-1)\n",
    "# force scores to be positive\n",
    "scores = np.abs(scores)\n",
    "print('Mean MSE: %.3f (%.3f)' % (np.mean(scores), np.std(scores)))\n",
    "model.fit(X, y)\n",
    "\n",
    "row = [[5, 15, 4, 5, 50]]\n",
    "model.predict(row)\n",
    "\n",
    "# Save the model to a file\n",
    "joblib.dump(model, 'lasso_regressor_model_D.pkl')"
   ]
  },
  {
   "cell_type": "markdown",
   "metadata": {},
   "source": [
    "**Keepers**"
   ]
  },
  {
   "cell_type": "code",
   "execution_count": 61,
   "metadata": {},
   "outputs": [
    {
     "name": "stdout",
     "output_type": "stream",
     "text": [
      "Mean MSE: 1.884 (0.376)\n"
     ]
    },
    {
     "data": {
      "text/plain": [
       "['lasso_regressor_model_P.pkl']"
      ]
     },
     "execution_count": 61,
     "metadata": {},
     "output_type": "execute_result"
    }
   ],
   "source": [
    "# Get the data to fit\n",
    "data = dataframe_P.values\n",
    "X, y = data[:, 2:-4], data[:, -3:-1]\n",
    "\n",
    "# Define model\n",
    "model = Lasso(alpha=1)\n",
    "# define model evaluation method\n",
    "cv = RepeatedKFold(n_splits=4, n_repeats=3, random_state=42)\n",
    "# evaluate model\n",
    "scores = cross_val_score(model, X, y, scoring='neg_mean_absolute_error', cv=cv, n_jobs=-1)\n",
    "# force scores to be positive\n",
    "scores = np.abs(scores)\n",
    "print('Mean MSE: %.3f (%.3f)' % (np.mean(scores), np.std(scores)))\n",
    "model.fit(X, y)\n",
    "\n",
    "row = [[5, 20, 4, 4, 80]]\n",
    "model.predict(row)\n",
    "# Save the model to a file\n",
    "joblib.dump(model, 'lasso_regressor_model_P.pkl')"
   ]
  }
 ],
 "metadata": {
  "kernelspec": {
   "display_name": "Python 3",
   "language": "python",
   "name": "python3"
  },
  "language_info": {
   "codemirror_mode": {
    "name": "ipython",
    "version": 3
   },
   "file_extension": ".py",
   "mimetype": "text/x-python",
   "name": "python",
   "nbconvert_exporter": "python",
   "pygments_lexer": "ipython3",
   "version": "3.9.6"
  }
 },
 "nbformat": 4,
 "nbformat_minor": 2
}
