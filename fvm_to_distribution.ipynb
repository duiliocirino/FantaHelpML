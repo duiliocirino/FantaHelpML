{
 "cells": [
  {
   "cell_type": "markdown",
   "metadata": {},
   "source": [
    "# Imports"
   ]
  },
  {
   "cell_type": "code",
   "execution_count": 1,
   "metadata": {},
   "outputs": [],
   "source": [
    "import pandas as pd\n",
    "from sklearn.linear_model import LinearRegression\n",
    "import joblib"
   ]
  },
  {
   "cell_type": "code",
   "execution_count": 2,
   "metadata": {},
   "outputs": [],
   "source": [
    "current_season = \"24-25_trial\""
   ]
  },
  {
   "cell_type": "markdown",
   "metadata": {},
   "source": [
    "# Load the datasets"
   ]
  },
  {
   "cell_type": "code",
   "execution_count": 3,
   "metadata": {},
   "outputs": [
    {
     "name": "stdout",
     "output_type": "stream",
     "text": [
      "PLAYERS\n",
      "Shape: (539, 24)\n",
      "Summary Players\n",
      "       Id Role         Name     Squad  Price  MyRating         Mate  \\\n",
      "0    4431    P  Carnesecchi  Atalanta     10       1.4        Musso   \n",
      "1    2792    P        Musso  Atalanta      5       2.4  Carnesecchi   \n",
      "2    2297    P     Rossi F.  Atalanta      1       1.0          NaN   \n",
      "3     554    D   Zappacosta  Atalanta     15       4.4         Holm   \n",
      "4    5067    D       Bakker  Atalanta     11       4.0      Ruggeri   \n",
      "..    ...  ...          ...       ...    ...       ...          ...   \n",
      "534  5529    A        Henry    Verona     11       1.9          NaN   \n",
      "535  5471    A       Djuric    Verona     10       1.8    Bonazzoli   \n",
      "536   505    A    Bonazzoli    Verona      8       2.3       Djuric   \n",
      "537  5395    A        Braaf    Verona      1       1.0          NaN   \n",
      "538  5439    A       Kallon    Verona      1       1.0          NaN   \n",
      "\n",
      "     Regularness  FVM  Pg22_23  ...  Mf21_22  Pg20_21  Mv20_21  Mf20_21  \\\n",
      "0              3   10       27  ...     0.00        0     0.00     0.00   \n",
      "1              4   28       23  ...     4.79       35     6.13     4.60   \n",
      "2              1    1        0  ...     5.00        0     0.00     0.00   \n",
      "3              4   41       21  ...     6.24       25     6.22     6.72   \n",
      "4              4   23        0  ...     0.00        0     0.00     0.00   \n",
      "..           ...  ...      ...  ...      ...      ...      ...      ...   \n",
      "534            2    6       15  ...     6.69        0     0.00     0.00   \n",
      "535            4   10       24  ...     6.55        0     0.00     0.00   \n",
      "536            3    8       21  ...     7.10       22     5.97     6.53   \n",
      "537            1    1        6  ...     0.00        4     6.17     7.17   \n",
      "538            1    2       22  ...     5.85        1     6.50     6.50   \n",
      "\n",
      "     Pg19_20  Mv19_20  Mf19_20  Pg18_19  Mv18_19  Mf18_19  \n",
      "0          0     0.00     0.00        0     0.00     0.00  \n",
      "1         38     6.28     5.08       29     6.26     4.81  \n",
      "2          1     6.00     5.00        1     0.00     0.00  \n",
      "3          9     5.72     5.83        0     0.00     0.00  \n",
      "4          0     0.00     0.00        0     0.00     0.00  \n",
      "..       ...      ...      ...      ...      ...      ...  \n",
      "534        0     0.00     0.00        0     0.00     0.00  \n",
      "535        0     0.00     0.00        0     0.00     0.00  \n",
      "536       19     6.22     7.19        0     0.00     0.00  \n",
      "537        0     0.00     0.00        0     0.00     0.00  \n",
      "538        0     0.00     0.00        0     0.00     0.00  \n",
      "\n",
      "[539 rows x 24 columns]\n",
      "TEAMS Nicosia\n",
      "Shape:(3135, 4)\n",
      "Summary Players\n",
      "                    Role          Name Team  Price\n",
      "0         Union Saldado            NaN  NaN    NaN\n",
      "1                      P     Skorupski  Bol    3.0\n",
      "2                      P  Rui Patricio  Rom   33.0\n",
      "3                      P   Di Gregorio  Mon    2.0\n",
      "4                      D        Acerbi  Int   10.0\n",
      "...                  ...           ...  ...    ...\n",
      "3130                   A       Simeone  Nap    1.0\n",
      "3131                   A     Cambiaghi  Emp    1.0\n",
      "3132                   A       Osimhen  Nap  320.0\n",
      "3133                   A         Henry  Ver    1.0\n",
      "3134  Crediti Residui: 9           NaN  NaN    NaN\n",
      "\n",
      "[3135 rows x 4 columns]\n"
     ]
    }
   ],
   "source": [
    "# load dataset players\n",
    "print(\"PLAYERS\")\n",
    "urlPlayers = current_season + '/output_rating.csv'\n",
    "dataframePlayers = pd.read_csv(urlPlayers, header=0, index_col=None)\n",
    "# summarize shape\n",
    "print(\"Shape: \" + str(dataframePlayers.shape))\n",
    "# summarize first few lines\n",
    "print(\"Summary Players\")\n",
    "print(dataframePlayers)\n",
    "# load dataset squads\n",
    "print(\"TEAMS Nicosia\")\n",
    "urlExcel = current_season + '/Rose_fantalega-nicosia.xlsx'\n",
    "dataframeTeams = pd.read_excel(urlExcel, index_col=None)\n",
    "# summarize shape\n",
    "print(\"Shape:\" + str(dataframeTeams.shape))\n",
    "# summarize first few lines\n",
    "print(\"Summary Players\")\n",
    "print(dataframeTeams)"
   ]
  },
  {
   "cell_type": "markdown",
   "metadata": {},
   "source": [
    "## Get Data"
   ]
  },
  {
   "cell_type": "code",
   "execution_count": 4,
   "metadata": {},
   "outputs": [
    {
     "name": "stdout",
     "output_type": "stream",
     "text": [
      "['Carnesecchi', 'Musso', 'Rossi F.', 'Zappacosta', 'Bakker', 'Scalvini', 'Holm', 'Kolasinac', 'Toloi', 'Djimsiti', 'Palomino', 'Hateboer', 'Zortea', 'Ruggeri', 'Bonfanti', 'Koopmeiners', 'Pasalic', 'Ederson D.s.', 'De Roon', 'Miranchuk', 'De Ketelaere', 'Adopo', 'Scamacca', 'Lookman', \"Toure' E.\", 'Muriel', 'Skorupski', 'Ravaglia F.', 'Bagnolini', 'Posch', \"Lucumi'\", 'Kristiansen', 'Beukema', 'Lykogiannis', 'Calafiori', 'Soumaoro', 'Bonifazi', 'Corazza', 'De Silvestri', 'Amey', 'Orsolini', 'Ferguson', 'Ndoye', 'Freuler', 'Moro N.', 'Aebischer', 'Fabbian', 'Saelemaekers', 'Urbanski', 'El Azzouzi', 'Zirkzee', 'Karlsson', 'Van Hooijdonk', 'Radunovic', 'Scuffet', 'Aresti', 'Zappa', 'Dossena', 'Azzi', 'Wieteska', 'Augello', 'Obert', 'Hatzidiakos', 'Goldaniga', 'Di Pardo', 'Capradossi', 'Jankto', 'Nandez', 'Mancosu', 'Oristanio', 'Makoumbou', 'Deiola', 'Sulemana I.', 'Rog', 'Viola', 'Prati', 'Lapadula', 'Petagna', 'Shomurodov', 'Luvumbo', 'Pavoletti', 'Caprile', 'Berisha', 'Perisan', 'Stubljar', 'Ebuehi', 'Bastoni S.', 'Luperto', 'Pezzella Giu.', 'Ismajli', 'Bereszynski', 'Walukiewicz', 'Cacace', 'Tonelli', 'Guarino', 'Baldanzi', 'Marin', 'Gyasi', 'Grassi', 'Fazzini', 'Maldini', 'Kovalenko', 'Maleh', 'Ranocchia F.', 'Belardinelli', 'Caputo', 'Cambiaghi', 'Cancellieri', 'Destro', 'Shpendi S.', 'Ekong', 'Terracciano', 'Christensen O.', 'Martinelli T.', 'Biraghi', 'Milenkovic', 'Parisi', \"Dodo'\", 'Mina', 'Ranieri L.', 'Martinez Quarta', 'Kayode', 'Pierozzi', 'Bonaventura', \"Ikone'\", 'Barak', 'Mandragora', 'Castrovilli', 'Sottil', 'Arthur Melo', 'Sabiri', 'Lopez M.', 'Duncan', 'Infantino', 'Amatucci', 'Nzola', 'Gonzalez N.', 'Beltran L.', 'Brekalo', \"Kouame'\", 'Turati', 'Cerofolini', 'Frattali', 'Romagnoli S.', 'Marchizza', 'Monterisi', 'Lirola', 'Oyono', 'Okoli', 'Mateus Lusuardi', 'Kalaj', 'Harroui', 'Reinier', 'Brescianini', 'Mazzitelli', 'Bourabia', 'Baez', 'Garritano', 'Barrenechea', 'Gelli', 'Lulic K.', 'Cheddira', 'Caso', \"Soule'\", 'Cuni', 'Kvernadze', 'Kaio Jorge', 'Bidaoui', 'Martinez Jo.', 'Leali', 'Sommariva', 'Martin', 'Dragusin', 'Vasquez', 'Sabelli', 'Biraschi', 'Vogliacco', 'Bani', 'Hefti', 'Haps', 'De Winter', 'Matturro', 'Malinovskyi', 'Gudmundsson A.', 'Thorsby', 'Messias', 'Frendrup', 'Strootman', 'Badelj', 'Kutlu', 'Jagiello', 'Retegui', 'Ekuban', 'Puscas', 'Yalcin', 'Sommer', 'Audero', 'Di Gennaro', 'Dimarco', 'Carlos Augusto', 'Bastoni', 'Dumfries', 'Pavard', 'Darmian', 'Acerbi', 'Cuadrado', 'De Vrij', 'Bisseck', 'Barella', 'Calhanoglu', 'Frattesi', 'Mkhitaryan', 'Klaassen', 'Sensi', 'Asllani', 'Martinez L.', 'Thuram', 'Arnautovic', 'Sanchez', 'Szczesny', 'Perin', 'Pinsoglio', 'Danilo', 'Bremer', 'Cambiaso', 'Alex Sandro', 'Gatti', 'Rugani', 'De Sciglio', 'Huijsen', 'Rabiot', 'Kostic', 'Fagioli', 'Pogba', 'Locatelli', 'Weah', 'Mckennie', 'Miretti', 'Iling Junior', 'Nicolussi Caviglia', 'Vlahovic', 'Chiesa', 'Milik', 'Kean', 'Yildiz', 'Provedel', 'Sepe', 'Mandas', 'Romagnoli', 'Casale', 'Hysaj', 'Marusic', 'Lazzari', 'Patric', 'Pellegrini Lu.', 'Gila', 'Zaccagni', 'Luis Alberto', 'Felipe Anderson', 'Kamada', 'Guendouzi', 'Cataldi', 'Vecino', 'Rovella', 'Basic', 'Immobile', 'Castellanos', 'Pedro', 'Isaksen', 'Falcone', 'Brancolini', 'Borbei', 'Baschirotto', 'Gallo', 'Gendrey', 'Pongracic', 'Venuti', 'Dorgu', 'Touba', 'Dermaku', 'Smajlovic', 'Strefezza', 'Ramadani', 'Blin', 'Gonzalez J.', 'Oudin', 'Rafia', 'Kaba', 'Faticanti', 'Krstovic', 'Almqvist', 'Banda', 'Piccoli', 'Burnete', 'Corfitzen', 'Maignan', 'Sportiello', 'Mirante', 'Hernandez T.', 'Tomori', 'Thiaw', 'Calabria', 'Kalulu', 'Kjaer', 'Florenzi', 'Pellegrino', 'Pulisic', 'Chukwueze', 'Loftus-Cheek', 'Reijnders', 'Bennacer', 'Musah', 'Krunic', 'Pobega', 'Romero L.', 'Adli', 'Rafael Leao', 'Giroud', 'Okafor', 'Jovic', 'Di Gregorio', 'Lamanna', 'Sorrentino A.', 'Gori', 'Kyriakopoulos', \"Mari'\", 'Izzo', \"D'ambrosio\", 'Caldirola', 'Birindelli', 'Carboni A.', 'Cittadini', 'Pereira P.', 'Bettella', 'Carboni F.', 'Ciurria', 'Pessina', 'Colpani', 'Gagliardini', 'Machin', 'Akpa Akpro', 'Vignato S.', 'Bondo', 'Carboni V.', 'Caprari', 'Mota', 'Colombo', 'Maric', 'Meret', 'Gollini', 'Contini', 'Di Lorenzo', 'Rrahmani', 'Mario Rui', 'Natan', 'Olivera', 'Juan Jesus', 'Zanoli', 'Ostigard', 'Zielinski', 'Politano', 'Lindstrom', 'Elmas', 'Zambo Anguissa', 'Lobotka', 'Cajuste ', 'Gaetano', 'Demme', 'Zerbin', 'Osimhen', 'Kvaratskhelia', 'Simeone', 'Raspadori', 'Rui Patricio', 'Boer', 'Svilar', 'Smalling', 'Spinazzola', 'Mancini', \"N'dicka\", 'Kristensen', 'Llorente D.', 'Karsdorp', 'Kumbulla', 'Celik', 'El Shaarawy', 'Aouar', 'Pellegrini Lo.', 'Renato Sanches', 'Cristante', 'Zalewski', 'Paredes', 'Bove', 'Pagano', 'Lukaku', 'Dybala', 'Abraham', 'Belotti', 'Azmoun', 'Ochoa', 'Fiorillo', 'Costil', 'Mazzocchi', 'Bradaric', 'Gyomber', 'Pirola', 'Lovato', 'Sambia', 'Fazio', 'Daniliuc', 'Bronn', 'Candreva', 'Coulibaly L.', 'Kastanos', 'Martegani', 'Bohinen', 'Maggiore', 'Tchaouna', 'Legowski', 'Dia', 'Botheim', 'Jovane', 'Ikwuemesi', 'Valencia D.', 'Stewart', 'Consigli', 'Cragno', 'Pegolo', 'Pedersen', 'Toljan', 'Erlic', 'Viti', 'Tressoldi', 'Vina', 'Ferrari G.', 'Missori', 'Bajrami', 'Matheus Henrique', 'Thorstvedt', 'Castillejo', 'Boloca', 'Racic', 'Obiang', 'Volpato', 'Lipani', 'Berardi', \"Lauriente'\", 'Pinamonti', 'Mulattieri', 'Defrel', 'Alvarez A.', 'Ceide', 'Milinkovic-Savic V.', 'Gemello', 'Popa', 'Schuurs', 'Buongiorno', 'Rodriguez R.', 'Bellanova', 'Vojvoda', 'Djidji', 'Lazaro', 'Zima', 'Sazonov', 'Soppy', \"N'guessan\", 'Vlasic', 'Ricci S.', 'Ilic', 'Radonjic', 'Tameze', 'Linetty', 'Gineitis', 'Sanabria', 'Zapata D.', 'Karamoh', 'Pellegri', 'Seck', 'Silvestri', 'Padelli', 'Okoye', 'Perez N.', 'Bijol', 'Kamara H.', 'Zemura', 'Masina', 'Ebosele', 'Kabasele', 'Ehizibue', 'Ebosse', 'Ferreira J.', 'Kristensen T.', 'Guessand A.', 'Samardzic', 'Lovric', 'Walace', 'Payero', 'Quina', 'Zarraga', 'Camara E.', 'Pafundi', 'Deulofeu', 'Thauvin', 'Davis K.', 'Brenner', 'Success', 'Lucca', \"Ake' M.\", 'Vivaldo', \"Montipo'\", 'Berardi A.', 'Perilli', 'Doig', 'Faraoni', 'Hien', 'Dawidowicz', 'Terracciano F.', 'Gunter', 'Magnani', 'Amione', 'Coppola D.', 'Cabal', 'Lazovic', 'Saponara', 'Mboula', 'Duda', 'Hongla', 'Serdar', 'Tchatchoua', 'Folorunsho', 'Suslov', 'Hrustic', 'Joselito', 'Ngonge', 'Henry', 'Djuric', 'Bonazzoli', 'Braaf', 'Kallon']\n"
     ]
    }
   ],
   "source": [
    "roles = [\"P\", \"D\", \"C\", \"A\"]\n",
    "\n",
    "players_list = dataframePlayers[\"Name\"].tolist()\n",
    "print(players_list)"
   ]
  },
  {
   "cell_type": "markdown",
   "metadata": {},
   "source": [
    "## Mean and Std"
   ]
  },
  {
   "cell_type": "code",
   "execution_count": 5,
   "metadata": {},
   "outputs": [
    {
     "name": "stdout",
     "output_type": "stream",
     "text": [
      "            Name       mean       std  count\n",
      "0        Abraham   1.000000  1.000000      1\n",
      "1         Acerbi   6.692308  3.250247     13\n",
      "2    Alex Sandro   4.000000  4.242641      2\n",
      "3       Almqvist   4.785714  6.459085     14\n",
      "4          Aouar  13.714286  8.870249     14\n",
      "..           ...        ...       ...    ...\n",
      "534       Suslov   1.000000  1.000000      0\n",
      "535      Hrustic   1.000000  1.000000      0\n",
      "536     Joselito   1.000000  1.000000      0\n",
      "537        Braaf   1.000000  1.000000      0\n",
      "538       Kallon   1.000000  1.000000      0\n",
      "\n",
      "[539 rows x 4 columns]\n"
     ]
    },
    {
     "name": "stderr",
     "output_type": "stream",
     "text": [
      "C:\\Users\\d.cirino\\AppData\\Local\\Temp\\ipykernel_66124\\2440067702.py:5: FutureWarning: A value is trying to be set on a copy of a DataFrame or Series through chained assignment using an inplace method.\n",
      "The behavior will change in pandas 3.0. This inplace method will never work because the intermediate object on which we are setting values always behaves as a copy.\n",
      "\n",
      "For example, when doing 'df[col].method(value, inplace=True)', try using 'df.method({col: value}, inplace=True)' or df[col] = df[col].method(value) instead, to perform the operation inplace on the original object.\n",
      "\n",
      "\n",
      "  player_prices['std'].fillna(1, inplace=True)\n"
     ]
    }
   ],
   "source": [
    "# Group by 'Name' and calculate mean, std, and count for each player\n",
    "player_prices = dataframeTeams.groupby('Name')['Price'].agg(['mean', 'std', 'count']).reset_index()\n",
    "\n",
    "# Replace NaN values in 'std' with 1\n",
    "player_prices['std'].fillna(1, inplace=True)\n",
    "\n",
    "# Iterate through the players_list to handle cases where a player has no occurrences\n",
    "for player in players_list:\n",
    "    if player not in player_prices['Name'].values:\n",
    "        # If a player has no occurrences, set mean, std, and count to 1\n",
    "        player_prices = pd.concat([player_prices, pd.DataFrame({'Name': [player], 'mean': [1], 'std': [1], 'count': [0]})], ignore_index=True)\n",
    "\n",
    "# Now, player_stats contains the mean, std, and count for each player, with rows where std is NaN removed\n",
    "print(player_prices)"
   ]
  },
  {
   "cell_type": "markdown",
   "metadata": {},
   "source": [
    "## Substitute the player name with his FVM at the start of the season"
   ]
  },
  {
   "cell_type": "markdown",
   "metadata": {},
   "source": [
    "**Filter and Visualize**"
   ]
  },
  {
   "cell_type": "code",
   "execution_count": 6,
   "metadata": {},
   "outputs": [
    {
     "name": "stdout",
     "output_type": "stream",
     "text": [
      "               Name       mean        std  count\n",
      "1            Acerbi   6.692308   3.250247     13\n",
      "3          Almqvist   4.785714   6.459085     14\n",
      "4             Aouar  13.714286   8.870249     14\n",
      "5        Arnautovic  32.785714  15.373196     14\n",
      "6       Arthur Melo   2.250000   2.549510      8\n",
      "..              ...        ...        ...    ...\n",
      "299  Zambo Anguissa   9.571429   7.470087     14\n",
      "300       Zapata D.  83.357143  23.873407     14\n",
      "302      Zappacosta  37.142857   6.893220     14\n",
      "303       Zielinski  60.214286  11.018715     14\n",
      "304         Zirkzee  36.642857  14.642442     14\n",
      "\n",
      "[188 rows x 4 columns]\n"
     ]
    }
   ],
   "source": [
    "# Filter the dataframe to the ones having more than 8 count\n",
    "player_prices = player_prices[player_prices['count'] >= 8]\n",
    "print(player_prices)"
   ]
  },
  {
   "cell_type": "code",
   "execution_count": 7,
   "metadata": {},
   "outputs": [
    {
     "name": "stdout",
     "output_type": "stream",
     "text": [
      "               Name       mean        std  count  FVM Role\n",
      "0            Acerbi   6.692308   3.250247     13   32    D\n",
      "1          Almqvist   4.785714   6.459085     14   28    A\n",
      "2             Aouar  13.714286   8.870249     14   47    C\n",
      "3        Arnautovic  32.785714  15.373196     14  122    A\n",
      "4       Arthur Melo   2.250000   2.549510      8   18    C\n",
      "..              ...        ...        ...    ...  ...  ...\n",
      "183  Zambo Anguissa   9.571429   7.470087     14   34    C\n",
      "184       Zapata D.  83.357143  23.873407     14  180    A\n",
      "185      Zappacosta  37.142857   6.893220     14   41    D\n",
      "186       Zielinski  60.214286  11.018715     14   82    C\n",
      "187         Zirkzee  36.642857  14.642442     14   71    A\n",
      "\n",
      "[188 rows x 6 columns]\n"
     ]
    }
   ],
   "source": [
    "player_prices = pd.merge(player_prices, dataframePlayers[['Name', 'FVM', 'Role']], on='Name', how='left')\n",
    "print(player_prices)\n",
    "# Split the merged dataframe into separate dataframes based on 'Role'\n",
    "df_P = player_prices[player_prices['Role'] == 'P']  # DataFrame for role 'P'\n",
    "df_D = player_prices[player_prices['Role'] == 'D']  # DataFrame for role 'D'\n",
    "df_C = player_prices[player_prices['Role'] == 'C']  # DataFrame for role 'C'\n",
    "df_A = player_prices[player_prices['Role'] == 'A']  # DataFrame for role 'A'"
   ]
  },
  {
   "cell_type": "markdown",
   "metadata": {},
   "source": [
    "**Regressors**"
   ]
  },
  {
   "cell_type": "code",
   "execution_count": 8,
   "metadata": {},
   "outputs": [],
   "source": [
    "# Function to train regression models for mean and std\n",
    "def train_regression_models(df, role):\n",
    "    # Extract X and Y values\n",
    "    X = df[['FVM']].values  # Input (FVM)\n",
    "    y_mean = df['mean'].values  # Target for mean\n",
    "    y_std = df['std'].values  # Target for std\n",
    "    \n",
    "    # Train model for mean\n",
    "    model_mean = LinearRegression()\n",
    "    model_mean.fit(X, y_mean)\n",
    "    \n",
    "    # Train model for std\n",
    "    model_std = LinearRegression()\n",
    "    model_std.fit(X, y_std)\n",
    "    \n",
    "    print(f\"Models trained for role {role}\")\n",
    "    \n",
    "    return model_mean, model_std"
   ]
  },
  {
   "cell_type": "code",
   "execution_count": 9,
   "metadata": {},
   "outputs": [
    {
     "name": "stdout",
     "output_type": "stream",
     "text": [
      "Models trained for role P\n",
      "Models trained for role D\n",
      "Models trained for role C\n",
      "Models trained for role A\n"
     ]
    }
   ],
   "source": [
    "# Train models for each role\n",
    "models = {}\n",
    "\n",
    "models['P'] = train_regression_models(df_P, 'P')\n",
    "models['D'] = train_regression_models(df_D, 'D')\n",
    "models['C'] = train_regression_models(df_C, 'C')\n",
    "models['A'] = train_regression_models(df_A, 'A')"
   ]
  },
  {
   "cell_type": "code",
   "execution_count": 10,
   "metadata": {},
   "outputs": [],
   "source": [
    "# Accessing the trained models\n",
    "model_mean_P, model_std_P = models['P']\n",
    "model_mean_D, model_std_D = models['D']\n",
    "model_mean_C, model_std_C = models['C']\n",
    "model_mean_A, model_std_A = models['A']"
   ]
  },
  {
   "cell_type": "code",
   "execution_count": 11,
   "metadata": {},
   "outputs": [
    {
     "name": "stdout",
     "output_type": "stream",
     "text": [
      "Predicted mean for role 'C' with FVM=90: 57.92913950979279\n",
      "Predicted std for role 'C' with FVM=90: 8.559022015188885\n"
     ]
    }
   ],
   "source": [
    "# Example: Predicting for a new FVM value for role 'C'\n",
    "new_FVM_value = 90\n",
    "predicted_mean = model_mean_C.predict([[new_FVM_value]])\n",
    "predicted_std = model_std_C.predict([[new_FVM_value]])\n",
    "\n",
    "print(f\"Predicted mean for role 'C' with FVM={new_FVM_value}: {predicted_mean[0]}\")\n",
    "print(f\"Predicted std for role 'C' with FVM={new_FVM_value}: {predicted_std[0]}\")"
   ]
  },
  {
   "cell_type": "markdown",
   "metadata": {},
   "source": [
    "## Save Stats and Regressors"
   ]
  },
  {
   "cell_type": "code",
   "execution_count": 12,
   "metadata": {},
   "outputs": [
    {
     "name": "stdout",
     "output_type": "stream",
     "text": [
      "Model saved as regressors/model_mean_P.joblib\n",
      "Model saved as regressors/model_std_P.joblib\n",
      "Model saved as regressors/model_mean_D.joblib\n",
      "Model saved as regressors/model_std_D.joblib\n",
      "Model saved as regressors/model_mean_C.joblib\n",
      "Model saved as regressors/model_std_C.joblib\n",
      "Model saved as regressors/model_mean_A.joblib\n",
      "Model saved as regressors/model_std_A.joblib\n"
     ]
    }
   ],
   "source": [
    "# Save model to a file\n",
    "def save_model(model, filename):\n",
    "    with open(filename, 'wb') as file:\n",
    "        joblib.dump(model, file)\n",
    "    print(f\"Model saved as {filename}\")\n",
    "\n",
    "# Assuming model_mean_P and model_std_P are your trained models\n",
    "save_model(model_mean_P, 'regressors/model_mean_P.joblib')\n",
    "save_model(model_std_P, 'regressors/model_std_P.joblib')\n",
    "save_model(model_mean_D, 'regressors/model_mean_D.joblib')\n",
    "save_model(model_std_D, 'regressors/model_std_D.joblib')\n",
    "save_model(model_mean_C, 'regressors/model_mean_C.joblib')\n",
    "save_model(model_std_C, 'regressors/model_std_C.joblib')\n",
    "save_model(model_mean_A, 'regressors/model_mean_A.joblib')\n",
    "save_model(model_std_A, 'regressors/model_std_A.joblib')"
   ]
  },
  {
   "cell_type": "code",
   "execution_count": 13,
   "metadata": {},
   "outputs": [
    {
     "name": "stdout",
     "output_type": "stream",
     "text": [
      "Player statistics saved to 24-25_trial/player_prices_A.xlsx\n",
      "Player statistics saved to 24-25_trial/player_prices_C.xlsx\n",
      "Player statistics saved to 24-25_trial/player_prices_D.xlsx\n",
      "Player statistics saved to 24-25_trial/player_prices_P.xlsx\n"
     ]
    }
   ],
   "source": [
    "# Specify the file path where you want to save the Excel file\n",
    "excel_file_path = current_season + '/player_prices_A.xlsx'\n",
    "\n",
    "# Save the DataFrame to an Excel file\n",
    "df_A.to_excel(excel_file_path, index=False)\n",
    "\n",
    "print(f\"Player statistics saved to {excel_file_path}\")\n",
    "# Specify the file path where you want to save the Excel file\n",
    "excel_file_path = current_season + '/player_prices_C.xlsx'\n",
    "\n",
    "# Save the DataFrame to an Excel file\n",
    "df_C.to_excel(excel_file_path, index=False)\n",
    "\n",
    "print(f\"Player statistics saved to {excel_file_path}\")\n",
    "# Specify the file path where you want to save the Excel file\n",
    "excel_file_path = current_season + '/player_prices_D.xlsx'\n",
    "\n",
    "# Save the DataFrame to an Excel file\n",
    "df_D.to_excel(excel_file_path, index=False)\n",
    "\n",
    "print(f\"Player statistics saved to {excel_file_path}\")\n",
    "# Specify the file path where you want to save the Excel file\n",
    "excel_file_path = current_season + '/player_prices_P.xlsx'\n",
    "\n",
    "# Save the DataFrame to an Excel file\n",
    "df_P.to_excel(excel_file_path, index=False)\n",
    "\n",
    "print(f\"Player statistics saved to {excel_file_path}\")"
   ]
  }
 ],
 "metadata": {
  "kernelspec": {
   "display_name": "Python 3",
   "language": "python",
   "name": "python3"
  },
  "language_info": {
   "codemirror_mode": {
    "name": "ipython",
    "version": 3
   },
   "file_extension": ".py",
   "mimetype": "text/x-python",
   "name": "python",
   "nbconvert_exporter": "python",
   "pygments_lexer": "ipython3",
   "version": "3.12.4"
  }
 },
 "nbformat": 4,
 "nbformat_minor": 2
}
