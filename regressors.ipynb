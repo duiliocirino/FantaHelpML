{
 "cells": [
  {
   "cell_type": "code",
   "execution_count": 34,
   "metadata": {},
   "outputs": [],
   "source": [
    "import pandas as pd\n",
    "import numpy as np\n",
    "import matplotlib.pyplot as plt\n",
    "import joblib\n",
    "\n",
    "from scipy.stats import norm\n",
    "from sklearn.gaussian_process import GaussianProcessRegressor\n",
    "from sklearn.multioutput import MultiOutputRegressor\n",
    "from sklearn.svm import SVR\n",
    "from sklearn.gaussian_process.kernels import RBF\n",
    "from sklearn.gaussian_process.kernels import RationalQuadratic\n",
    "from sklearn.model_selection import cross_val_score\n",
    "from sklearn.model_selection import RepeatedKFold\n",
    "from sklearn.linear_model import Ridge\n",
    "from sklearn.linear_model import Lasso\n",
    "from sklearn.linear_model import LinearRegression\n",
    "from sklearn.preprocessing import StandardScaler\n",
    "from sklearn.model_selection import validation_curve\n",
    "\n",
    "import utility"
   ]
  },
  {
   "cell_type": "markdown",
   "metadata": {},
   "source": [
    "Every year I have to put the mean of the previous years to increase the accuracy of the regressors"
   ]
  },
  {
   "cell_type": "code",
   "execution_count": 35,
   "metadata": {},
   "outputs": [],
   "source": [
    "current_season = \"24-25\""
   ]
  },
  {
   "cell_type": "markdown",
   "metadata": {},
   "source": [
    "## Load Datasets"
   ]
  },
  {
   "cell_type": "code",
   "execution_count": 36,
   "metadata": {},
   "outputs": [
    {
     "name": "stdout",
     "output_type": "stream",
     "text": [
      "(519, 26)\n",
      "      Id Role          Name     Squad  Price  Age  MyRating         Mate  \\\n",
      "0   4431    P   Carnesecchi  Atalanta     13   24       4.3          NaN   \n",
      "1   2792    P         Musso  Atalanta      4   30       3.9          NaN   \n",
      "2   2297    P      Rossi F.  Atalanta      1   29       3.4          NaN   \n",
      "3   4887    D     Bellanova  Atalanta     13   24       4.3   Zappacosta   \n",
      "4   5354    D       Ruggeri  Atalanta     12   22       4.0          NaN   \n",
      "5    554    D    Zappacosta  Atalanta      9   32       3.8    Bellanova   \n",
      "6   2640    D     Kolasinac  Atalanta      9   31       3.7          NaN   \n",
      "7    787    D      Djimsiti  Atalanta      8   31       3.5      Godfrey   \n",
      "8   5526    D      Scalvini  Atalanta      8   21       3.7          NaN   \n",
      "9   6046    D          Hien  Atalanta      8   25       3.5          NaN   \n",
      "10  5324    D       Godfrey  Atalanta      7   26       4.0     Djimsiti   \n",
      "11   695    D         Toloi  Atalanta      4   34       3.8          NaN   \n",
      "12  5067    D        Bakker  Atalanta      4   24       3.8          NaN   \n",
      "13  5685    C   Koopmeiners  Atalanta     28   26       5.0          NaN   \n",
      "14  5119    C     Samardzic  Atalanta     17   22       4.1          NaN   \n",
      "15  2077    C       Pasalic  Atalanta     16   29       4.2   Ederson D.   \n",
      "16  5792    C  Ederson D.s.  Atalanta     15   25       4.0      Pasalic   \n",
      "17  2766    C       Zaniolo  Atalanta     13   25       3.9          NaN   \n",
      "18    22    C       De Roon  Atalanta      8   33       3.2          NaN   \n",
      "19  4947    C   Brescianini  Atalanta      7   24       3.8          NaN   \n",
      "20  6024    C   Sulemana I.  Atalanta      2   21       3.2          NaN   \n",
      "21  2137    A      Scamacca  Atalanta     27   25       4.3          NaN   \n",
      "22  4730    A       Lookman  Atalanta     27   28       4.2          NaN   \n",
      "23  6228    A       Retegui  Atalanta     22   25       3.9          NaN   \n",
      "24  5995    A  De Ketelaere  Atalanta     21   23       4.1          NaN   \n",
      "25   133    P     Skorupski   Bologna     12   33       4.3          NaN   \n",
      "26  2722    P   Ravaglia F.   Bologna      1   27       3.4          NaN   \n",
      "27  5822    P     Bagnolini   Bologna      1   20       3.4          NaN   \n",
      "28  5678    D          Holm   Bologna      9   27       4.2        Erlic   \n",
      "29  4734    D    Miranda J.   Bologna      8   24       4.0  Lykogiannis   \n",
      "\n",
      "    Regularness  FVM  ...  Pg21_22  Mv21_22  Mf21_22  Pg20_21  Mv20_21  \\\n",
      "0             4   55  ...      NaN      NaN      NaN      0.0     0.00   \n",
      "1             3   20  ...     33.0     6.11     4.79     35.0     6.13   \n",
      "2             1    1  ...      1.0     6.00     5.00      0.0     0.00   \n",
      "3             4   45  ...     31.0     5.82     5.90      0.0     0.00   \n",
      "4             5   42  ...     13.0     5.85     5.81      3.0     5.50   \n",
      "5             3   33  ...     31.0     6.08     6.24     25.0     6.22   \n",
      "6             5   21  ...      NaN      NaN      NaN      NaN      NaN   \n",
      "7             4   18  ...     29.0     5.86     5.84     33.0     6.09   \n",
      "8             3   12  ...     14.0     5.96     6.14      NaN      NaN   \n",
      "9             5   21  ...      NaN      NaN      NaN      NaN      NaN   \n",
      "10            3   15  ...      NaN      NaN      NaN      NaN      NaN   \n",
      "11            2    9  ...     19.0     6.00     6.05     31.0     5.94   \n",
      "12            3    9  ...      NaN      NaN      NaN      NaN      NaN   \n",
      "13            4  160  ...     28.0     6.30     6.62      NaN      NaN   \n",
      "14            3   53  ...     13.0     6.12     6.73      NaN      NaN   \n",
      "15            3   52  ...     33.0     6.24     7.56     20.0     6.08   \n",
      "16            4   55  ...     15.0     6.17     6.47      NaN      NaN   \n",
      "17            3   41  ...     27.0     6.00     6.02      0.0     0.00   \n",
      "18            5   16  ...     30.0     5.95     6.13     35.0     6.07   \n",
      "19            4   33  ...      NaN      NaN      NaN      NaN      NaN   \n",
      "20            2    4  ...      NaN      NaN      NaN      NaN      NaN   \n",
      "21            3  145  ...     32.0     6.22     7.61     26.0     6.17   \n",
      "22            5  222  ...      NaN      NaN      NaN      NaN      NaN   \n",
      "23            5  194  ...      NaN      NaN      NaN      NaN      NaN   \n",
      "24            5  147  ...      NaN      NaN      NaN      NaN      NaN   \n",
      "25            5   53  ...     36.0     6.24     4.79     28.0     6.09   \n",
      "26            1    1  ...      NaN      NaN      NaN      4.0     5.88   \n",
      "27            1    1  ...      NaN      NaN      NaN      NaN      NaN   \n",
      "28            3   24  ...      0.0     0.00     0.00      NaN      NaN   \n",
      "29            4   16  ...      NaN      NaN      NaN      NaN      NaN   \n",
      "\n",
      "    Mf20_21  Pg19_20  Mv19_20  Mf19_20  ExpectedMf  \n",
      "0      0.00      NaN      NaN      NaN        5.28  \n",
      "1      4.60     38.0     6.28     5.08        5.11  \n",
      "2      0.00      1.0     6.00     5.00        5.06  \n",
      "3      0.00      1.0     6.00     6.00        6.35  \n",
      "4      5.50      NaN      NaN      NaN        6.11  \n",
      "5      6.72      9.0     5.72     5.83        6.05  \n",
      "6       NaN      NaN      NaN      NaN        6.05  \n",
      "7      6.03     34.0     6.07     6.21        5.91  \n",
      "8       NaN      NaN      NaN      NaN        6.20  \n",
      "9       NaN      NaN      NaN      NaN        5.85  \n",
      "10      NaN      NaN      NaN      NaN        6.42  \n",
      "11     5.97     30.0     6.18     6.35        6.34  \n",
      "12      NaN      NaN      NaN      NaN        6.39  \n",
      "13      NaN      NaN      NaN      NaN        7.49  \n",
      "14      NaN      NaN      NaN      NaN        6.74  \n",
      "15     7.00     34.0     6.15     6.88        6.83  \n",
      "16      NaN      NaN      NaN      NaN        6.56  \n",
      "17     0.00     25.0     6.16     6.80        6.53  \n",
      "18     6.06     34.0     5.97     6.06        5.95  \n",
      "19      NaN      NaN      NaN      NaN        6.44  \n",
      "20      NaN      NaN      NaN      NaN        6.40  \n",
      "21     7.08      NaN      NaN      NaN        8.01  \n",
      "22      NaN      NaN      NaN      NaN        7.65  \n",
      "23      NaN      NaN      NaN      NaN        7.04  \n",
      "24      NaN      NaN      NaN      NaN        7.64  \n",
      "25     4.64     37.0     5.99     4.31        5.29  \n",
      "26     3.38      NaN      NaN      NaN        5.07  \n",
      "27      NaN      NaN      NaN      NaN        5.04  \n",
      "28      NaN      NaN      NaN      NaN        6.45  \n",
      "29      NaN      NaN      NaN      NaN        6.42  \n",
      "\n",
      "[30 rows x 26 columns]\n",
      "SQUADS\n",
      "Summary Squads\n",
      "{'Atalanta': 4, 'Bologna': 3, 'Cagliari': 1, 'Como': 2, 'Empoli': 1, 'Fiorentina': 4, 'Genoa': 3, 'Inter': 5, 'Juventus': 5, 'Lazio': 4, 'Lecce': 2, 'Milan': 5, 'Monza': 2, 'Napoli': 5, 'Parma': 2, 'Roma': 4, 'Torino': 3, 'Udinese': 3, 'Venezia': 1, 'Verona': 1}\n"
     ]
    }
   ],
   "source": [
    "# load and summarize the dataset\n",
    "# load ratings dataset\n",
    "urlT = current_season + '/output_rp.csv'\n",
    "dataframe_ratings = pd.read_csv(urlT, header=0)\n",
    "# summarize shape\n",
    "print(dataframe_ratings.shape)\n",
    "# summarize first few lines\n",
    "print(dataframe_ratings.head(30))\n",
    "\n",
    "# load dataset squads\n",
    "print(\"SQUADS\")\n",
    "urlSquads = current_season + '/squads.csv'\n",
    "dataframe_squads = pd.read_csv(urlSquads, header=0, index_col=None)\n",
    "dataframe_squads.set_index(\"Name\", inplace=True)\n",
    "squads_dict = dataframe_squads['Value'].to_dict()\n",
    "# summarize first few lines\n",
    "print(\"Summary Squads\")\n",
    "print(squads_dict)"
   ]
  },
  {
   "cell_type": "markdown",
   "metadata": {},
   "source": [
    "## Create sub datasets for regressions"
   ]
  },
  {
   "cell_type": "code",
   "execution_count": 37,
   "metadata": {},
   "outputs": [],
   "source": [
    "columns_to_keep = [\"Id\", \"Role\", \"Name\", \"Squad\", \"Price\", \"MyRating\",  \"Mate\", \"Regularness\", \"FVM\", \"ExpectedMf\", \"mean\", \"std\"]\n",
    "#columns_to_keep = [\"Role\", \"Name\", \"Squad\", \"MyRating\", \"FVM\", \"mean\", \"std\"]\n",
    "\n",
    "roles = [\"P\", \"D\", \"C\", \"A\"]"
   ]
  },
  {
   "cell_type": "code",
   "execution_count": 38,
   "metadata": {},
   "outputs": [
    {
     "name": "stderr",
     "output_type": "stream",
     "text": [
      "c:\\Users\\dulio\\AppData\\Local\\Programs\\Python\\Python39\\lib\\site-packages\\sklearn\\base.py:376: InconsistentVersionWarning: Trying to unpickle estimator LinearRegression from version 1.5.1 when using version 1.4.2. This might lead to breaking code or invalid results. Use at your own risk. For more info please refer to:\n",
      "https://scikit-learn.org/stable/model_persistence.html#security-maintainability-limitations\n",
      "  warnings.warn(\n"
     ]
    }
   ],
   "source": [
    "# Load models (assuming they are already saved in the current directory)\n",
    "model_mean_P = joblib.load('regressors/model_mean_P.joblib')\n",
    "model_std_P = joblib.load('regressors/model_std_P.joblib')\n",
    "model_mean_D = joblib.load('regressors/model_mean_D.joblib')\n",
    "model_std_D = joblib.load('regressors/model_std_D.joblib')\n",
    "model_mean_C = joblib.load('regressors/model_mean_C.joblib')\n",
    "model_std_C = joblib.load('regressors/model_std_C.joblib')\n",
    "model_mean_A = joblib.load('regressors/model_mean_A.joblib')\n",
    "model_std_A = joblib.load('regressors/model_std_A.joblib')"
   ]
  },
  {
   "cell_type": "code",
   "execution_count": 39,
   "metadata": {},
   "outputs": [],
   "source": [
    "# Function to predict mean and std based on role\n",
    "def predict_for_role(row):\n",
    "    fvm_value = np.array([[row['FVM']]], dtype=np.float32)\n",
    "    \n",
    "    if row['Role'] == 'P':\n",
    "        value = model_mean_P.predict(fvm_value)[0]\n",
    "        mean = round(value) if value >= 1 else 1\n",
    "        std = round(model_std_P.predict(fvm_value)[0])\n",
    "    elif row['Role'] == 'D':\n",
    "        value = model_mean_D.predict(fvm_value)[0]\n",
    "        mean = round(value) if value >= 1 else 1\n",
    "        std = round(model_std_D.predict(fvm_value)[0])\n",
    "    elif row['Role'] == 'C':\n",
    "        value = model_mean_C.predict(fvm_value)[0]\n",
    "        mean = round(value) if value >= 1 else 1\n",
    "        std = round(model_std_C.predict(fvm_value)[0])\n",
    "    elif row['Role'] == 'A':\n",
    "        value = model_mean_A.predict(fvm_value)[0]\n",
    "        mean = round(value) if value >= 1 else 1\n",
    "        std = round(model_std_A.predict(fvm_value)[0])\n",
    "    else:\n",
    "        mean = np.nan\n",
    "        std = np.nan\n",
    "    \n",
    "    return pd.Series([mean, std], index=['mean', 'std'])"
   ]
  },
  {
   "cell_type": "code",
   "execution_count": 40,
   "metadata": {},
   "outputs": [
    {
     "name": "stdout",
     "output_type": "stream",
     "text": [
      "MERGED DATASET\n",
      "       Id Role              Name     Squad  Price  MyRating        Mate  \\\n",
      "0    4431    P       Carnesecchi  Atalanta     13       4.3         NaN   \n",
      "1    2792    P             Musso  Atalanta      4       3.9         NaN   \n",
      "2    2297    P          Rossi F.  Atalanta      1       3.4         NaN   \n",
      "3    4887    D         Bellanova  Atalanta     13       4.3  Zappacosta   \n",
      "4    5354    D           Ruggeri  Atalanta     12       4.0         NaN   \n",
      "..    ...  ...               ...       ...    ...       ...         ...   \n",
      "514  6801    A         Tengstedt    Verona     12       3.4         NaN   \n",
      "515  6630    A          Mosquera    Verona     10       3.5         NaN   \n",
      "516  6644    A  Rocha Livramento    Verona      6       3.2         NaN   \n",
      "517  6558    A            Tavsan    Verona      4       3.0         NaN   \n",
      "518  6490    A              Cruz    Verona      1       2.9         NaN   \n",
      "\n",
      "     Regularness  FVM  ExpectedMf  mean  std  \n",
      "0              4   55        5.28    40    6  \n",
      "1              3   20        5.11     9    3  \n",
      "2              1    1        5.06     1    1  \n",
      "3              4   45        6.35    33    6  \n",
      "4              5   42        6.11    30    6  \n",
      "..           ...  ...         ...   ...  ...  \n",
      "514            4   23        6.90     1    7  \n",
      "515            3   23        7.01     1    7  \n",
      "516            1   12        6.74     1    6  \n",
      "517            1    4        6.72     1    6  \n",
      "518            1    1        6.96     1    6  \n",
      "\n",
      "[519 rows x 12 columns]\n",
      "       Id Role            Name       Squad  Price  MyRating         Mate  \\\n",
      "21   2137    A        Scamacca    Atalanta     27       4.3          NaN   \n",
      "22   4730    A         Lookman    Atalanta     27       4.2          NaN   \n",
      "23   6228    A         Retegui    Atalanta     22       3.9          NaN   \n",
      "24   5995    A    De Ketelaere    Atalanta     21       4.1          NaN   \n",
      "50   6643    A        Dallinga     Bologna     22       3.7    Castro S.   \n",
      "51   4436    A       Cambiaghi     Bologna     12       3.1     Karlsson   \n",
      "53   6572    A       Castro S.     Bologna      8       3.2     Dallinga   \n",
      "75   4359    A         Piccoli    Cagliari     13       3.4     Lapadula   \n",
      "76   5297    A         Luvumbo    Cagliari     12       3.6          NaN   \n",
      "104   441    A         Belotti        Como     17       3.6          NaN   \n",
      "130  4923    A         Colombo      Empoli     12       3.5          NaN   \n",
      "155  5800    A  Gudmundsson A.  Fiorentina     26       4.2          NaN   \n",
      "156  2097    A            Kean  Fiorentina     20       3.8   Beltran L.   \n",
      "157  6409    A      Beltran L.  Fiorentina     11       3.5         Kean   \n",
      "179  2038    A       Pinamonti       Genoa     18       3.7          NaN   \n",
      "180  6164    A      Vitinha O.       Genoa     12       3.7          NaN   \n",
      "203  2764    A     Martinez L.       Inter     40       4.9          NaN   \n",
      "204  4871    A          Thuram       Inter     33       4.4       Taremi   \n",
      "205  6628    A          Taremi       Inter     15       3.7       Thuram   \n",
      "206  4268    A      Arnautovic       Inter      8       3.2          NaN   \n",
      "229  2841    A        Vlahovic    Juventus     36       4.3          NaN   \n",
      "230  4179    A     Gonzalez N.    Juventus     24       4.0         Weah   \n",
      "231  2002    A          Chiesa    Juventus     20       3.8          NaN   \n",
      "232  6434    A          Yildiz    Juventus     16       3.2          NaN   \n",
      "233  2012    A           Milik    Juventus     12       3.1          NaN   \n",
      "256  6226    A     Castellanos       Lazio     22       3.5          Dia   \n",
      "257  6556    A          Noslin       Lazio     16       3.7      Isaksen   \n",
      "258  5672    A             Dia       Lazio     15       3.8  Castellanos   \n",
      "259  6398    A         Isaksen       Lazio     11       3.3       Noslin   \n",
      "278  6435    A        Krstovic       Lecce     16       3.4          NaN   \n",
      "305   313    A          Morata       Milan     27       4.0          NaN   \n",
      "306  4510    A            Leao       Milan     24       4.2          NaN   \n",
      "307  6227    A          Okafor       Milan     12       3.5          NaN   \n",
      "333  5471    A          Djuric       Monza     12       3.2          NaN   \n",
      "334  5882    A            Mota       Monza     10       3.2          NaN   \n",
      "356  4661    A         Osimhen      Napoli     34       4.5          NaN   \n",
      "357  5839    A   Kvaratskhelia      Napoli     28       4.2          NaN   \n",
      "359  4371    A       Raspadori      Napoli     10       3.3          NaN   \n",
      "361  6439    A        Cheddira      Napoli      9       3.4          NaN   \n",
      "380  6667    A      Benedyczak       Parma     10       3.4          NaN   \n",
      "382  6669    A           Bonny       Parma      9       3.3          NaN   \n",
      "406   309    A          Dybala        Roma     34       4.5          NaN   \n",
      "407  6675    A          Dovbyk        Roma     31       4.2          NaN   \n",
      "408  5734    A          Soule'        Roma     20       3.9          NaN   \n",
      "409  2544    A         Abraham        Roma     13       3.6          NaN   \n",
      "430   608    A       Zapata D.      Torino     26       3.9          NaN   \n",
      "431  6646    A        Adams C.      Torino     14       3.8          NaN   \n",
      "455  2475    A         Sanchez     Udinese     16       3.4          NaN   \n",
      "456  6215    A           Lucca     Udinese     13       3.6          NaN   \n",
      "457  2369    A         Thauvin     Udinese      9       3.4          NaN   \n",
      "458  6213    A         Brenner     Udinese      8       3.4          NaN   \n",
      "488  5079    A      Pohjanpalo     Venezia     16       3.8          NaN   \n",
      "514  6801    A       Tengstedt      Verona     12       3.4          NaN   \n",
      "515  6630    A        Mosquera      Verona     10       3.5          NaN   \n",
      "\n",
      "     Regularness  FVM  ExpectedMf  mean  std  \n",
      "21             3  145        8.01    84   17  \n",
      "22             5  222        7.65   142   23  \n",
      "23             5  194        7.04   121   21  \n",
      "24             5  147        7.64    86   17  \n",
      "50             4   94        7.07    46   13  \n",
      "51             4   20        6.47     1    7  \n",
      "53             3   47        6.29    10    9  \n",
      "75             4   50        6.72    12   10  \n",
      "76             5   38        7.05     3    9  \n",
      "104            5   75        6.94    31   12  \n",
      "130            4   55        6.73    16   10  \n",
      "155            5  170        7.69   103   19  \n",
      "156            4  100        7.09    50   14  \n",
      "157            3   34        6.92     1    8  \n",
      "179            5   97        6.92    48   13  \n",
      "180            5   79        7.04    34   12  \n",
      "203            5  406        8.79   281   38  \n",
      "204            4  260        7.89   171   26  \n",
      "205            3   70        7.08    28   11  \n",
      "206            3   20        6.55     1    7  \n",
      "229            5  354        7.73   242   34  \n",
      "230            4  102        7.50    52   14  \n",
      "231            3   65        7.22    24   11  \n",
      "232            5   75        6.16    31   12  \n",
      "233            3   22        6.39     1    7  \n",
      "256            4  112        6.53    59   14  \n",
      "257            4   73        7.13    30   11  \n",
      "258            3   66        7.28    25   11  \n",
      "259            3   25        6.75     1    8  \n",
      "278            5   72        6.59    29   11  \n",
      "305            5  181        7.35   111   20  \n",
      "306            5  200        7.60   125   22  \n",
      "307            4   21        7.21     1    7  \n",
      "333            4   31        6.39     1    8  \n",
      "334            4   22        6.57     1    7  \n",
      "356            5  362        8.06   248   34  \n",
      "357            5  260        7.57   171   26  \n",
      "359            3   22        6.69     1    7  \n",
      "361            2   20        6.88     1    7  \n",
      "380            3   20        6.89     1    7  \n",
      "382            4   42        6.47     6    9  \n",
      "406            5  279        8.03   185   28  \n",
      "407            5  238        7.67   154   25  \n",
      "408            5   93        7.39    45   13  \n",
      "409            3   30        7.17     1    8  \n",
      "430            5  172        7.12   104   19  \n",
      "431            4   72        7.30    29   11  \n",
      "455            5   70        6.46    28   11  \n",
      "456            5   71        6.99    28   11  \n",
      "457            5   37        6.69     3    8  \n",
      "458            3   26        6.91     1    8  \n",
      "488            4   78        7.27    34   12  \n",
      "514            4   23        6.90     1    7  \n",
      "515            3   23        7.01     1    7  \n"
     ]
    }
   ],
   "source": [
    "# Create the dataset with mean and std\n",
    "dataframe_ratings[['mean', 'std']] = dataframe_ratings.apply(predict_for_role, axis=1)\n",
    "# Drop useless columns\n",
    "dataframe_merge = dataframe_ratings.drop(dataframe_ratings.columns.difference(columns_to_keep), axis=1)\n",
    "# Substitute Squads with their values\n",
    "#dataframe_merge['Squad'] = dataframe_merge['Squad'].map(squads_dict)\n",
    "\n",
    "print(\"MERGED DATASET\")\n",
    "print(dataframe_merge)\n",
    "\n",
    "# Create the subsets for Role\n",
    "dataframe_A = dataframe_merge[dataframe_merge[\"Role\"] == 'A']\n",
    "dataframe_C = dataframe_merge[dataframe_merge[\"Role\"] == 'C']\n",
    "dataframe_D = dataframe_merge[dataframe_merge[\"Role\"] == 'D']\n",
    "dataframe_P = dataframe_merge[dataframe_merge[\"Role\"] == 'P']\n",
    "\n",
    "# Filter the dataframes to the ones having more than 10 FVM\n",
    "dataframe_A = dataframe_A[dataframe_A['FVM'] >= 20]\n",
    "\n",
    "print(dataframe_A)"
   ]
  },
  {
   "cell_type": "markdown",
   "metadata": {},
   "source": [
    "# Save without the stats columns"
   ]
  },
  {
   "cell_type": "code",
   "execution_count": 41,
   "metadata": {},
   "outputs": [],
   "source": [
    "# Dictionary to rename\n",
    "rename_dict = {\n",
    "    \"Id\": \"id\",\n",
    "    \"Role\": \"role\",\n",
    "    \"Name\": \"name\",\n",
    "    \"Squad\": \"squad\",\n",
    "    \"Price\": \"price\",\n",
    "    \"MyRating\": \"myRating\",\n",
    "    \"Mate\": \"mate\",\n",
    "    \"Regularness\": \"regularness\",\n",
    "    \"FVM\": \"fvm\",\n",
    "    \"ExpectedMf\": \"expMf\",\n",
    "    \"mean\": \"expPrice\",\n",
    "    \"std\": \"expStd\"\n",
    "}\n",
    "# Rename the columns\n",
    "dataframe_merge = dataframe_merge.rename(columns=rename_dict)\n",
    "# Save to file\n",
    "dataframe_merge.to_csv('players23_24_nostats.csv', index=False, sep=',', encoding='utf-8')"
   ]
  },
  {
   "cell_type": "markdown",
   "metadata": {},
   "source": [
    "### Trial Regression with mean and std"
   ]
  },
  {
   "cell_type": "markdown",
   "metadata": {},
   "source": [
    "**GPR**\n",
    "\n",
    "After inspecting the behaviour of this model I concluded it does not fit our problem."
   ]
  },
  {
   "cell_type": "code",
   "execution_count": 12,
   "metadata": {},
   "outputs": [
    {
     "name": "stdout",
     "output_type": "stream",
     "text": [
      "Mean MSE: 423.472 (608.019)\n"
     ]
    },
    {
     "name": "stderr",
     "output_type": "stream",
     "text": [
      "c:\\Users\\d.cirino\\AppData\\Local\\Programs\\Python\\Python312\\Lib\\site-packages\\sklearn\\gaussian_process\\_gpr.py:659: ConvergenceWarning: lbfgs failed to converge (status=2):\n",
      "ABNORMAL_TERMINATION_IN_LNSRCH.\n",
      "\n",
      "Increase the number of iterations (max_iter) or scale the data as shown in:\n",
      "    https://scikit-learn.org/stable/modules/preprocessing.html\n",
      "  _check_optimize_result(\"lbfgs\", opt_res)\n"
     ]
    },
    {
     "ename": "ValueError",
     "evalue": "X has 4 features, but GaussianProcessRegressor is expecting 3 features as input.",
     "output_type": "error",
     "traceback": [
      "\u001b[1;31m---------------------------------------------------------------------------\u001b[0m",
      "\u001b[1;31mValueError\u001b[0m                                Traceback (most recent call last)",
      "Cell \u001b[1;32mIn[12], line 25\u001b[0m\n\u001b[0;32m     21\u001b[0m \u001b[38;5;66;03m# Predict\u001b[39;00m\n\u001b[0;32m     22\u001b[0m row \u001b[38;5;241m=\u001b[39m [\n\u001b[0;32m     23\u001b[0m         [\u001b[38;5;241m5\u001b[39m, \u001b[38;5;241m37\u001b[39m, \u001b[38;5;241m4.5\u001b[39m, \u001b[38;5;241m5\u001b[39m]\n\u001b[0;32m     24\u001b[0m     ]\n\u001b[1;32m---> 25\u001b[0m predicted_mean, predicted_std \u001b[38;5;241m=\u001b[39m \u001b[43mgp_model\u001b[49m\u001b[38;5;241;43m.\u001b[39;49m\u001b[43mpredict\u001b[49m\u001b[43m(\u001b[49m\u001b[43mrow\u001b[49m\u001b[43m,\u001b[49m\u001b[43m \u001b[49m\u001b[43mreturn_std\u001b[49m\u001b[38;5;241;43m=\u001b[39;49m\u001b[38;5;28;43;01mTrue\u001b[39;49;00m\u001b[43m)\u001b[49m\n\u001b[0;32m     27\u001b[0m \u001b[38;5;28mprint\u001b[39m(\u001b[38;5;124mf\u001b[39m\u001b[38;5;124m\"\u001b[39m\u001b[38;5;124mPredicted mean: \u001b[39m\u001b[38;5;132;01m{\u001b[39;00mpredicted_mean\u001b[38;5;132;01m}\u001b[39;00m\u001b[38;5;124m\"\u001b[39m)\n",
      "File \u001b[1;32mc:\\Users\\d.cirino\\AppData\\Local\\Programs\\Python\\Python312\\Lib\\site-packages\\sklearn\\gaussian_process\\_gpr.py:408\u001b[0m, in \u001b[0;36mGaussianProcessRegressor.predict\u001b[1;34m(self, X, return_std, return_cov)\u001b[0m\n\u001b[0;32m    405\u001b[0m \u001b[38;5;28;01melse\u001b[39;00m:\n\u001b[0;32m    406\u001b[0m     dtype, ensure_2d \u001b[38;5;241m=\u001b[39m \u001b[38;5;28;01mNone\u001b[39;00m, \u001b[38;5;28;01mFalse\u001b[39;00m\n\u001b[1;32m--> 408\u001b[0m X \u001b[38;5;241m=\u001b[39m \u001b[38;5;28;43mself\u001b[39;49m\u001b[38;5;241;43m.\u001b[39;49m\u001b[43m_validate_data\u001b[49m\u001b[43m(\u001b[49m\u001b[43mX\u001b[49m\u001b[43m,\u001b[49m\u001b[43m \u001b[49m\u001b[43mensure_2d\u001b[49m\u001b[38;5;241;43m=\u001b[39;49m\u001b[43mensure_2d\u001b[49m\u001b[43m,\u001b[49m\u001b[43m \u001b[49m\u001b[43mdtype\u001b[49m\u001b[38;5;241;43m=\u001b[39;49m\u001b[43mdtype\u001b[49m\u001b[43m,\u001b[49m\u001b[43m \u001b[49m\u001b[43mreset\u001b[49m\u001b[38;5;241;43m=\u001b[39;49m\u001b[38;5;28;43;01mFalse\u001b[39;49;00m\u001b[43m)\u001b[49m\n\u001b[0;32m    410\u001b[0m \u001b[38;5;28;01mif\u001b[39;00m \u001b[38;5;129;01mnot\u001b[39;00m \u001b[38;5;28mhasattr\u001b[39m(\u001b[38;5;28mself\u001b[39m, \u001b[38;5;124m\"\u001b[39m\u001b[38;5;124mX_train_\u001b[39m\u001b[38;5;124m\"\u001b[39m):  \u001b[38;5;66;03m# Unfitted;predict based on GP prior\u001b[39;00m\n\u001b[0;32m    411\u001b[0m     \u001b[38;5;28;01mif\u001b[39;00m \u001b[38;5;28mself\u001b[39m\u001b[38;5;241m.\u001b[39mkernel \u001b[38;5;129;01mis\u001b[39;00m \u001b[38;5;28;01mNone\u001b[39;00m:\n",
      "File \u001b[1;32mc:\\Users\\d.cirino\\AppData\\Local\\Programs\\Python\\Python312\\Lib\\site-packages\\sklearn\\base.py:654\u001b[0m, in \u001b[0;36mBaseEstimator._validate_data\u001b[1;34m(self, X, y, reset, validate_separately, cast_to_ndarray, **check_params)\u001b[0m\n\u001b[0;32m    651\u001b[0m     out \u001b[38;5;241m=\u001b[39m X, y\n\u001b[0;32m    653\u001b[0m \u001b[38;5;28;01mif\u001b[39;00m \u001b[38;5;129;01mnot\u001b[39;00m no_val_X \u001b[38;5;129;01mand\u001b[39;00m check_params\u001b[38;5;241m.\u001b[39mget(\u001b[38;5;124m\"\u001b[39m\u001b[38;5;124mensure_2d\u001b[39m\u001b[38;5;124m\"\u001b[39m, \u001b[38;5;28;01mTrue\u001b[39;00m):\n\u001b[1;32m--> 654\u001b[0m     \u001b[38;5;28;43mself\u001b[39;49m\u001b[38;5;241;43m.\u001b[39;49m\u001b[43m_check_n_features\u001b[49m\u001b[43m(\u001b[49m\u001b[43mX\u001b[49m\u001b[43m,\u001b[49m\u001b[43m \u001b[49m\u001b[43mreset\u001b[49m\u001b[38;5;241;43m=\u001b[39;49m\u001b[43mreset\u001b[49m\u001b[43m)\u001b[49m\n\u001b[0;32m    656\u001b[0m \u001b[38;5;28;01mreturn\u001b[39;00m out\n",
      "File \u001b[1;32mc:\\Users\\d.cirino\\AppData\\Local\\Programs\\Python\\Python312\\Lib\\site-packages\\sklearn\\base.py:443\u001b[0m, in \u001b[0;36mBaseEstimator._check_n_features\u001b[1;34m(self, X, reset)\u001b[0m\n\u001b[0;32m    440\u001b[0m     \u001b[38;5;28;01mreturn\u001b[39;00m\n\u001b[0;32m    442\u001b[0m \u001b[38;5;28;01mif\u001b[39;00m n_features \u001b[38;5;241m!=\u001b[39m \u001b[38;5;28mself\u001b[39m\u001b[38;5;241m.\u001b[39mn_features_in_:\n\u001b[1;32m--> 443\u001b[0m     \u001b[38;5;28;01mraise\u001b[39;00m \u001b[38;5;167;01mValueError\u001b[39;00m(\n\u001b[0;32m    444\u001b[0m         \u001b[38;5;124mf\u001b[39m\u001b[38;5;124m\"\u001b[39m\u001b[38;5;124mX has \u001b[39m\u001b[38;5;132;01m{\u001b[39;00mn_features\u001b[38;5;132;01m}\u001b[39;00m\u001b[38;5;124m features, but \u001b[39m\u001b[38;5;132;01m{\u001b[39;00m\u001b[38;5;28mself\u001b[39m\u001b[38;5;241m.\u001b[39m\u001b[38;5;18m__class__\u001b[39m\u001b[38;5;241m.\u001b[39m\u001b[38;5;18m__name__\u001b[39m\u001b[38;5;132;01m}\u001b[39;00m\u001b[38;5;124m \u001b[39m\u001b[38;5;124m\"\u001b[39m\n\u001b[0;32m    445\u001b[0m         \u001b[38;5;124mf\u001b[39m\u001b[38;5;124m\"\u001b[39m\u001b[38;5;124mis expecting \u001b[39m\u001b[38;5;132;01m{\u001b[39;00m\u001b[38;5;28mself\u001b[39m\u001b[38;5;241m.\u001b[39mn_features_in_\u001b[38;5;132;01m}\u001b[39;00m\u001b[38;5;124m features as input.\u001b[39m\u001b[38;5;124m\"\u001b[39m\n\u001b[0;32m    446\u001b[0m     )\n",
      "\u001b[1;31mValueError\u001b[0m: X has 4 features, but GaussianProcessRegressor is expecting 3 features as input."
     ]
    }
   ],
   "source": [
    "# Get the data to fit\n",
    "data = dataframe_A.values\n",
    "X, y = data[:, 2:-4], data[:, -3:-1]\n",
    "\n",
    "# Define kernel\n",
    "kernel = RationalQuadratic(length_scale=1)\n",
    "\n",
    "# Fit the GP model\n",
    "gp_model = GaussianProcessRegressor(kernel=kernel)\n",
    "\n",
    "# define model evaluation method\n",
    "cv = RepeatedKFold(n_splits=10, n_repeats=8, random_state=42)\n",
    "# evaluate model\n",
    "scores = cross_val_score(gp_model, X, y, scoring='neg_mean_squared_error', cv=cv, n_jobs=-1)\n",
    "# force scores to be positive\n",
    "scores = np.abs(scores)\n",
    "print('Mean MSE: %.3f (%.3f)' % (np.mean(scores), np.std(scores)))\n",
    "\n",
    "gp_model.fit(X, y)\n",
    "\n",
    "# Predict\n",
    "row = [\n",
    "        [5, 37, 4.5, 5]\n",
    "    ]\n",
    "predicted_mean, predicted_std = gp_model.predict(row, return_std=True)\n",
    "\n",
    "print(f\"Predicted mean: {predicted_mean}\")\n"
   ]
  },
  {
   "cell_type": "markdown",
   "metadata": {},
   "source": [
    "**Ridge**\n",
    "\n",
    "Has the behaviour we want and from previous takes it performs better than Linear Regression"
   ]
  },
  {
   "cell_type": "code",
   "execution_count": 7,
   "metadata": {},
   "outputs": [
    {
     "name": "stdout",
     "output_type": "stream",
     "text": [
      "Mean MSE: 139.384 (108.956)\n"
     ]
    },
    {
     "data": {
      "text/plain": [
       "array([[334.06547347,  42.42942749]])"
      ]
     },
     "execution_count": 7,
     "metadata": {},
     "output_type": "execute_result"
    }
   ],
   "source": [
    "# Get the data to fit\n",
    "data = dataframe_A.values\n",
    "X, y = data[:, 2:-4], data[:, -3:-1]\n",
    "\n",
    "# Define model\n",
    "model = Ridge(alpha=1.5)\n",
    "# define model evaluation method\n",
    "cv = RepeatedKFold(n_splits=10, n_repeats=8, random_state=42)\n",
    "# evaluate model\n",
    "scores = cross_val_score(model, X, y, scoring='neg_mean_squared_error', cv=cv, n_jobs=-1)\n",
    "# force scores to be positive\n",
    "scores = np.abs(scores)\n",
    "print('Mean MSE: %.3f (%.3f)' % (np.mean(scores), np.std(scores)))\n",
    "model.fit(X, y)\n",
    "\n",
    "row = [[5, 20, 3.5, 5, 420]]\n",
    "model.predict(row)"
   ]
  },
  {
   "cell_type": "markdown",
   "metadata": {},
   "source": [
    "**Lasso**\n",
    "\n",
    "Has the behaviour we want and from previous takes it performs better than Linear Regression"
   ]
  },
  {
   "cell_type": "code",
   "execution_count": 53,
   "metadata": {},
   "outputs": [
    {
     "name": "stdout",
     "output_type": "stream",
     "text": [
      "Mean MSE: 140.015 (111.970)\n"
     ]
    },
    {
     "data": {
      "text/plain": [
       "array([[135.08139252,  24.3643135 ]])"
      ]
     },
     "execution_count": 53,
     "metadata": {},
     "output_type": "execute_result"
    }
   ],
   "source": [
    "# Get the data to fit\n",
    "data = dataframe_A.values\n",
    "X, y = data[:, 2:-4], data[:, -3:-1]\n",
    "\n",
    "# Define model\n",
    "model = Lasso(alpha=1)\n",
    "# define model evaluation method\n",
    "cv = RepeatedKFold(n_splits=10, n_repeats=8, random_state=42)\n",
    "# evaluate model\n",
    "scores = cross_val_score(model, X, y, scoring='neg_mean_squared_error', cv=cv, n_jobs=-1)\n",
    "# force scores to be positive\n",
    "scores = np.abs(scores)\n",
    "print('Mean MSE: %.3f (%.3f)' % (np.mean(scores), np.std(scores)))\n",
    "model.fit(X, y)\n",
    "\n",
    "row = [[5, 40, 4.4, 5, 250]]\n",
    "model.predict(row)"
   ]
  },
  {
   "cell_type": "markdown",
   "metadata": {},
   "source": [
    "**Linear Regression**"
   ]
  },
  {
   "cell_type": "code",
   "execution_count": 440,
   "metadata": {},
   "outputs": [
    {
     "name": "stdout",
     "output_type": "stream",
     "text": [
      "Mean MSE: 125.594 (97.359)\n"
     ]
    },
    {
     "data": {
      "text/plain": [
       "array([[167.70427997,  25.32717582]])"
      ]
     },
     "execution_count": 440,
     "metadata": {},
     "output_type": "execute_result"
    }
   ],
   "source": [
    "# Get the data to fit\n",
    "data = dataframe_A.values\n",
    "X, y = data[:, 2:-3], data[:, -3:-1]\n",
    "\n",
    "# Create a linear regression model\n",
    "model = LinearRegression()\n",
    "# define model evaluation method\n",
    "cv = RepeatedKFold(n_splits=10, n_repeats=8, random_state=42)\n",
    "# evaluate model\n",
    "scores = cross_val_score(model, X, y, scoring='neg_mean_squared_error', cv=cv, n_jobs=-1)\n",
    "# force scores to be positive\n",
    "scores = np.abs(scores)\n",
    "print('Mean MSE: %.3f (%.3f)' % (np.mean(scores), np.std(scores)))\n",
    "model.fit(X, y)\n",
    "\n",
    "row = [[5, 20, 4.2, 4, 250]]\n",
    "model.predict(row)"
   ]
  },
  {
   "cell_type": "markdown",
   "metadata": {},
   "source": [
    "**SVM**"
   ]
  },
  {
   "cell_type": "code",
   "execution_count": 56,
   "metadata": {},
   "outputs": [
    {
     "name": "stdout",
     "output_type": "stream",
     "text": [
      "Mean MSE: 147.597 (130.852)\n"
     ]
    },
    {
     "data": {
      "text/plain": [
       "array([[92.28380825, 19.98913454]])"
      ]
     },
     "execution_count": 56,
     "metadata": {},
     "output_type": "execute_result"
    }
   ],
   "source": [
    "# Get the data to fit\n",
    "data = dataframe_A.values\n",
    "X, y = data[:, 2:-4], data[:, -3:-1]\n",
    "\n",
    "# Create an SVR model\n",
    "svr = SVR(kernel='linear')  # You can choose different kernels like 'rbf', 'poly', etc.\n",
    "\n",
    "# Wrap SVR into MultiOutputRegressor\n",
    "model = MultiOutputRegressor(svr)\n",
    "# define model evaluation method\n",
    "cv = RepeatedKFold(n_splits=10, n_repeats=8, random_state=42)\n",
    "# evaluate model\n",
    "scores = cross_val_score(model, X, y, scoring='neg_mean_squared_error', cv=cv, n_jobs=-1)\n",
    "# force scores to be positive\n",
    "scores = np.abs(scores)\n",
    "print('Mean MSE: %.3f (%.3f)' % (np.mean(scores), np.std(scores)))\n",
    "model.fit(X, y)\n",
    "\n",
    "row = [[4, 50, 3.5, 5, 200]]\n",
    "model.predict(row)"
   ]
  },
  {
   "cell_type": "markdown",
   "metadata": {},
   "source": [
    "## GPR Regressors"
   ]
  },
  {
   "cell_type": "markdown",
   "metadata": {},
   "source": [
    "**Attackers**"
   ]
  },
  {
   "cell_type": "code",
   "execution_count": 575,
   "metadata": {},
   "outputs": [
    {
     "name": "stdout",
     "output_type": "stream",
     "text": [
      "Mean MSE: 313.279 (334.262)\n",
      "[['A' 'Beltran L.' 4 15 3.0 3 61 14.07142857142857 7.670766541921304 14\n",
      "  14 8]\n",
      " ['A' 'Brekalo' 4 11 2.7 3 17 1.0 1.0 1 1 1]\n",
      " ['A' \"Kouame'\" 4 8 2.0 3 8 1.0 0.0 2 1 0]\n",
      " ['A' 'Cheddira' 2 10 2.0 5 28 5.538461538461538 4.858247019508591 13 6 5]\n",
      " ['A' 'Caso' 2 6 2.0 3 12 1.0 1.0 0 1 1]\n",
      " ['A' \"Soule'\" 2 4 2.0 4 14 1.571428571428571 0.9759000729485332 7 2 1]\n",
      " ['A' 'Cuni' 2 4 1.0 2 5 1.0 1.0 0 1 1]\n",
      " ['A' 'Kvernadze' 2 3 1.0 1 6 1.0 1.0 0 1 1]\n",
      " ['A' 'Kaio Jorge' 2 1 1.0 1 9 1.0 0.0 6 1 0]\n",
      " ['A' 'Bidaoui' 2 1 1.0 1 1 1.0 1.0 0 1 1]\n",
      " ['A' 'Retegui' 3 23 4.0 5 128 64.71428571428571 15.27908863285207 14 65\n",
      "  15]\n",
      " ['A' 'Ekuban' 3 3 1.0 2 2 1.0 1.0 0 1 1]\n",
      " ['A' 'Puscas' 3 1 1.0 1 2 1.0 1.0 0 1 1]\n",
      " ['A' 'Yalcin' 3 1 1.0 1 1 1.0 1.0 0 1 1]\n",
      " ['A' 'Martinez L.' 5 40 4.8 5 436 331.6428571428572 38.15677607502447 14\n",
      "  332 38]\n",
      " ['A' 'Thuram' 5 25 4.0 4 180 131.9285714285714 20.5817853965561 14 132\n",
      "  21]\n",
      " ['A' 'Arnautovic' 5 23 3.6 3 122 32.78571428571428 15.37319631160563 14\n",
      "  33 15]\n",
      " ['A' 'Sanchez' 5 14 3.6 3 44 1.2 0.4472135954999579 5 1 0]\n",
      " ['A' 'Vlahovic' 5 28 4.6 4 342 259.3571428571428 32.7639744533233 14 259\n",
      "  33]\n",
      " ['A' 'Chiesa' 5 19 3.6 5 142 91.14285714285714 22.38081988893836 14 91\n",
      "  22]\n",
      " ['A' 'Milik' 5 18 3.3 3 92 19.21428571428572 10.46002332273155 14 19 10]\n",
      " ['A' 'Kean' 5 10 2.9 2 20 2.0 1.732050807568877 3 2 2]\n",
      " ['A' 'Yildiz' 5 1 1.0 1 1 1.0 1.0 0 1 1]\n",
      " ['A' 'Immobile' 4 31 4.6 5 327 245.7857142857143 31.40842261223908 14\n",
      "  246 31]\n",
      " ['A' 'Castellanos' 4 12 2.0 3 28 2.333333333333333 2.82842712474619 9 2\n",
      "  3]\n",
      " ['A' 'Pedro' 4 11 2.9 2 18 1.0 0.0 3 1 0]\n",
      " ['A' 'Isaksen' 4 11 2.0 3 21 1.0 1.0 1 1 1]\n",
      " ['A' 'Krstovic' 3 13 3.0 5 66 24.35714285714286 12.41343653439315 14 24\n",
      "  12]\n",
      " ['A' 'Almqvist' 3 11 2.0 4 28 4.785714285714286 6.459085091542007 14 5 6]\n",
      " ['A' 'Banda' 3 9 2.0 3 16 3.0 1.0 1 3 1]\n",
      " ['A' 'Piccoli' 3 7 2.1 3 8 1.0 1.0 0 1 1]\n",
      " ['A' 'Burnete' 3 1 1.0 1 2 1.0 1.0 0 1 1]\n",
      " ['A' 'Corfitzen' 3 1 1.0 1 1 1.0 1.0 0 1 1]\n",
      " ['A' 'Rafael Leao' 5 32 4.6 5 282 192.4285714285714 41.25663449810091 14\n",
      "  192 41]\n",
      " ['A' 'Giroud' 5 28 4.0 5 200 149.1428571428571 30.35395587666684 14 149\n",
      "  30]\n",
      " ['A' 'Okafor' 5 16 3.0 3 52 2.5 2.315952582337636 12 3 2]\n",
      " ['A' 'Jovic' 5 13 2.7 3 28 1.181818181818182 0.4045199174779452 11 1 0]\n",
      " ['A' 'Caprari' 2 14 2.9 5 41 8.214285714285714 9.022864728681679 14 8 9]\n",
      " ['A' 'Mota' 2 10 2.7 3 16 1.0 0.0 3 1 0]\n",
      " ['A' 'Colombo' 2 9 2.3 4 40 7.5 8.446665250035297 14 7 8]\n",
      " ['A' 'Maric' 2 2 1.0 1 1 1.0 1.0 0 1 1]\n",
      " ['A' 'Osimhen' 5 44 4.9 5 442 320.2142857142857 16.93053032668669 14 320\n",
      "  17]\n",
      " ['A' 'Kvaratskhelia' 5 30 4.6 5 261 129.2142857142857 39.43286128916528\n",
      "  14 129 39]\n",
      " ['A' 'Simeone' 5 12 3.0 3 30 3.076923076923077 3.402487777630227 13 3 3]\n",
      " ['A' 'Raspadori' 5 9 2.6 3 35 10.0 8.296585643102429 13 10 8]\n",
      " ['A' 'Lukaku' 4 30 4.7 5 312 231.7857142857143 29.01770963614241 14 232\n",
      "  29]\n",
      " ['A' 'Dybala' 4 28 4.6 5 286 120.2857142857143 21.9244456869796 14 120\n",
      "  22]\n",
      " ['A' 'Abraham' 4 14 3.6 3 50 1.0 1.0 1 1 1]\n",
      " ['A' 'Belotti' 4 12 3.0 3 52 5.928571428571429 9.864187640256942 14 6 10]\n",
      " ['A' 'Azmoun' 4 12 3.0 1 40 1.5 0.7071067811865476 2 2 1]\n",
      " ['A' 'Dia' 3 26 4.6 5 156 36.21428571428572 16.80283204805561 14 36 17]\n",
      " ['A' 'Botheim' 3 7 1.4 3 10 1.0 1.0 1 1 1]\n",
      " ['A' 'Jovane' 3 5 1.0 2 8 1.0 1.0 0 1 1]\n",
      " ['A' 'Ikwuemesi' 3 2 1.0 1 2 1.0 1.0 0 1 1]\n",
      " ['A' 'Valencia D.' 3 1 1.0 1 1 1.0 1.0 0 1 1]\n",
      " ['A' 'Stewart' 3 1 1.0 1 1 1.0 1.0 0 1 1]\n",
      " ['A' 'Berardi' 3 30 4.6 5 271 176.3571428571429 38.21116861067463 14 176\n",
      "  38]\n",
      " ['A' \"Lauriente'\" 3 21 3.6 5 105 28.07142857142857 11.09722269977275 14\n",
      "  28 11]\n",
      " ['A' 'Pinamonti' 3 13 2.4 4 57 27.64285714285714 16.91884312674046 14 28\n",
      "  17]\n",
      " ['A' 'Mulattieri' 3 11 2.0 3 22 5.5 6.363961030678928 2 5 6]]\n",
      "prices_A.csv\n"
     ]
    },
    {
     "ename": "NameError",
     "evalue": "name 'can' is not defined",
     "output_type": "error",
     "traceback": [
      "\u001b[1;31m---------------------------------------------------------------------------\u001b[0m",
      "\u001b[1;31mNameError\u001b[0m                                 Traceback (most recent call last)",
      "\u001b[1;32mc:\\Users\\dulio\\Desktop\\FantaHelp\\2024-2025\\regressors.ipynb Cell 18\u001b[0m line \u001b[0;36m3\n\u001b[0;32m     <a href='vscode-notebook-cell:/c%3A/Users/dulio/Desktop/FantaHelp/2024-2025/regressors.ipynb#X45sZmlsZQ%3D%3D?line=33'>34</a>\u001b[0m name \u001b[39m=\u001b[39m \u001b[39m'\u001b[39m\u001b[39mprices_A.csv\u001b[39m\u001b[39m'\u001b[39m\n\u001b[0;32m     <a href='vscode-notebook-cell:/c%3A/Users/dulio/Desktop/FantaHelp/2024-2025/regressors.ipynb#X45sZmlsZQ%3D%3D?line=34'>35</a>\u001b[0m \u001b[39mprint\u001b[39m(name)\n\u001b[1;32m---> <a href='vscode-notebook-cell:/c%3A/Users/dulio/Desktop/FantaHelp/2024-2025/regressors.ipynb#X45sZmlsZQ%3D%3D?line=35'>36</a>\u001b[0m can\n\u001b[0;32m     <a href='vscode-notebook-cell:/c%3A/Users/dulio/Desktop/FantaHelp/2024-2025/regressors.ipynb#X45sZmlsZQ%3D%3D?line=36'>37</a>\u001b[0m np\u001b[39m.\u001b[39msavetxt(name, tempJoint, delimiter\u001b[39m=\u001b[39m\u001b[39m'\u001b[39m\u001b[39m,\u001b[39m\u001b[39m'\u001b[39m, fmt\u001b[39m=\u001b[39m\u001b[39m'\u001b[39m\u001b[39m%s\u001b[39;00m\u001b[39m'\u001b[39m)\n\u001b[0;32m     <a href='vscode-notebook-cell:/c%3A/Users/dulio/Desktop/FantaHelp/2024-2025/regressors.ipynb#X45sZmlsZQ%3D%3D?line=37'>38</a>\u001b[0m nameEx \u001b[39m=\u001b[39m \u001b[39m'\u001b[39m\u001b[39mprices_A_ex.csv\u001b[39m\u001b[39m'\u001b[39m\n",
      "\u001b[1;31mNameError\u001b[0m: name 'can' is not defined"
     ]
    }
   ],
   "source": [
    "# Get the data to fit\n",
    "data = dataframe_A.values\n",
    "X, y = data[:, 2:-3], data[:, -3:-1]\n",
    "\n",
    "# Scale the data\n",
    "scaler = StandardScaler()\n",
    "X = scaler.fit_transform(X)\n",
    "\n",
    "# Define kernel\n",
    "kernel = RationalQuadratic(length_scale=0.1)\n",
    "\n",
    "# Fit the GP model\n",
    "model = GaussianProcessRegressor(kernel=kernel)\n",
    "# define model evaluation method\n",
    "cv = RepeatedKFold(n_splits=10, n_repeats=8, random_state=42)\n",
    "# evaluate model\n",
    "scores = cross_val_score(model, X, y, scoring='neg_mean_squared_error', cv=cv, n_jobs=-1)\n",
    "# force scores to be positive\n",
    "scores = np.abs(scores)\n",
    "print('Mean MSE: %.3f (%.3f)' % (np.mean(scores), np.std(scores)))\n",
    "model.fit(X, y)\n",
    "\n",
    "row = [[4, 30, 4.6, 5, 200]]\n",
    "row = scaler.transform(row)\n",
    "model.predict(row)\n",
    "\n",
    "temp = model.predict(X)\n",
    "temp = np.round(temp)\n",
    "temp = temp.astype(int)\n",
    "#temp = np.concatenate((['price'] , temp), axis=0)\n",
    "temp = np.vstack(temp)\n",
    "tempJoint = np.hstack((data, temp))\n",
    "print(tempJoint[20:80,:])\n",
    "name = 'prices_A.csv'\n",
    "print(name)\n",
    "can\n",
    "np.savetxt(name, tempJoint, delimiter=',', fmt='%s')\n",
    "nameEx = 'prices_A_ex.csv'\n",
    "np.savetxt(nameEx, tempJoint, delimiter=';', fmt='%s')\n",
    "# Save the model to a file\n",
    "joblib.dump(model, 'lasso_regressor_model_A.pkl')"
   ]
  },
  {
   "cell_type": "markdown",
   "metadata": {},
   "source": [
    "## Ridge Regressors"
   ]
  },
  {
   "cell_type": "markdown",
   "metadata": {},
   "source": [
    "**Attackers**"
   ]
  },
  {
   "cell_type": "code",
   "execution_count": 191,
   "metadata": {},
   "outputs": [
    {
     "name": "stdout",
     "output_type": "stream",
     "text": [
      "Mean MSE: 1.612 (0.249)\n"
     ]
    },
    {
     "data": {
      "text/plain": [
       "['ridge_regressor_model_A.pkl']"
      ]
     },
     "execution_count": 191,
     "metadata": {},
     "output_type": "execute_result"
    }
   ],
   "source": [
    "# Get the data to fit\n",
    "data = dataframe_A.values\n",
    "X, y = data[:, 2:-2], data[:, -2:]\n",
    "\n",
    "# Define model\n",
    "model = Ridge(alpha=1)\n",
    "# define model evaluation method\n",
    "cv = RepeatedKFold(n_splits=4, n_repeats=3, random_state=42)\n",
    "# evaluate model\n",
    "scores = cross_val_score(model, X, y, scoring='neg_mean_absolute_error', cv=cv, n_jobs=-1)\n",
    "# force scores to be positive\n",
    "scores = np.abs(scores)\n",
    "print('Mean MSE: %.3f (%.3f)' % (np.mean(scores), np.std(scores)))\n",
    "model.fit(X, y)\n",
    "\n",
    "# Save the model to a file\n",
    "joblib.dump(model, 'ridge_regressor_model_A.pkl')"
   ]
  },
  {
   "cell_type": "code",
   "execution_count": 193,
   "metadata": {},
   "outputs": [
    {
     "name": "stdout",
     "output_type": "stream",
     "text": [
      "[[50.70255599 13.5998253 ]]\n"
     ]
    }
   ],
   "source": [
    "row = [[5, 4.6, 100]]\n",
    "print(model.predict(row))"
   ]
  },
  {
   "cell_type": "markdown",
   "metadata": {},
   "source": [
    "**Midfielders**"
   ]
  },
  {
   "cell_type": "code",
   "execution_count": 99,
   "metadata": {},
   "outputs": [
    {
     "name": "stdout",
     "output_type": "stream",
     "text": [
      "Mean MSE: 4.813 (0.741)\n",
      "[[ 7.38371268 49.51152719]]\n"
     ]
    },
    {
     "data": {
      "text/plain": [
       "['ridge_regressor_model_C.pkl']"
      ]
     },
     "execution_count": 99,
     "metadata": {},
     "output_type": "execute_result"
    }
   ],
   "source": [
    "# Get the data to fit\n",
    "data = dataframe_C.values\n",
    "X, y = data[:, 2:-2], data[:, -3:-1]\n",
    "\n",
    "# Define model\n",
    "model = Ridge(alpha=1.5)\n",
    "# define model evaluation method\n",
    "cv = RepeatedKFold(n_splits=8, n_repeats=3, random_state=42)\n",
    "# evaluate model\n",
    "scores = cross_val_score(model, X, y, scoring='neg_mean_absolute_error', cv=cv, n_jobs=-1)\n",
    "# force scores to be positive\n",
    "scores = np.abs(scores)\n",
    "print('Mean MSE: %.3f (%.3f)' % (np.mean(scores), np.std(scores)))\n",
    "model.fit(X, y)\n",
    "\n",
    "row = [[4, 4.5, 7.5]]\n",
    "print(model.predict(row))\n",
    "\n",
    "# Save the model to a file\n",
    "joblib.dump(model, 'ridge_regressor_model_C.pkl')"
   ]
  },
  {
   "cell_type": "markdown",
   "metadata": {},
   "source": [
    "**Defenders**"
   ]
  },
  {
   "cell_type": "code",
   "execution_count": 84,
   "metadata": {},
   "outputs": [
    {
     "name": "stdout",
     "output_type": "stream",
     "text": [
      "Mean MSE: 3.028 (0.490)\n"
     ]
    },
    {
     "data": {
      "text/plain": [
       "['ridge_regressor_model_D.pkl']"
      ]
     },
     "execution_count": 84,
     "metadata": {},
     "output_type": "execute_result"
    }
   ],
   "source": [
    "# Get the data to fit\n",
    "data = dataframe_D.values\n",
    "X, y = data[:, 2:-2], data[:, -3:-1]\n",
    "\n",
    "# Define model\n",
    "model = Ridge(alpha=1.5)\n",
    "# define model evaluation method\n",
    "cv = RepeatedKFold(n_splits=4, n_repeats=3, random_state=42)\n",
    "# evaluate model\n",
    "scores = cross_val_score(model, X, y, scoring='neg_mean_absolute_error', cv=cv, n_jobs=-1)\n",
    "# force scores to be positive\n",
    "scores = np.abs(scores)\n",
    "print('Mean MSE: %.3f (%.3f)' % (np.mean(scores), np.std(scores)))\n",
    "model.fit(X, y)\n",
    "\n",
    "row = [[5, 4, 6.5]]\n",
    "model.predict(row)\n",
    "\n",
    "# Save the model to a file\n",
    "joblib.dump(model, 'ridge_regressor_model_D.pkl')"
   ]
  },
  {
   "cell_type": "markdown",
   "metadata": {},
   "source": [
    "**Keepers**"
   ]
  },
  {
   "cell_type": "code",
   "execution_count": 86,
   "metadata": {},
   "outputs": [
    {
     "name": "stdout",
     "output_type": "stream",
     "text": [
      "Mean MSE: 3.787 (0.784)\n"
     ]
    },
    {
     "data": {
      "text/plain": [
       "['ridge_regressor_model_P.pkl']"
      ]
     },
     "execution_count": 86,
     "metadata": {},
     "output_type": "execute_result"
    }
   ],
   "source": [
    "# Get the data to fit\n",
    "data = dataframe_P.values\n",
    "X, y = data[:, 2:-2], data[:, -3:-1]\n",
    "\n",
    "# Define model\n",
    "model = Ridge(alpha=1.5)\n",
    "# define model evaluation method\n",
    "cv = RepeatedKFold(n_splits=4, n_repeats=3, random_state=42)\n",
    "# evaluate model\n",
    "scores = cross_val_score(model, X, y, scoring='neg_mean_absolute_error', cv=cv, n_jobs=-1)\n",
    "# force scores to be positive\n",
    "scores = np.abs(scores)\n",
    "print('Mean MSE: %.3f (%.3f)' % (np.mean(scores), np.std(scores)))\n",
    "model.fit(X, y)\n",
    "\n",
    "row = [[5, 4, 5.2]]\n",
    "model.predict(row)\n",
    "# Save the model to a file\n",
    "joblib.dump(model, 'ridge_regressor_model_P.pkl')"
   ]
  },
  {
   "cell_type": "markdown",
   "metadata": {},
   "source": [
    "## Lasso Regressors"
   ]
  },
  {
   "cell_type": "markdown",
   "metadata": {},
   "source": [
    "**Attackers**"
   ]
  },
  {
   "cell_type": "code",
   "execution_count": 89,
   "metadata": {},
   "outputs": [
    {
     "name": "stdout",
     "output_type": "stream",
     "text": [
      "Mean MSE: 14.626 (2.597)\n"
     ]
    },
    {
     "data": {
      "text/plain": [
       "['lasso_regressor_model_A.pkl']"
      ]
     },
     "execution_count": 89,
     "metadata": {},
     "output_type": "execute_result"
    }
   ],
   "source": [
    "# Get the data to fit\n",
    "data = dataframe_A.values\n",
    "X, y = data[:, 2:-2], data[:, -3:-1]\n",
    "\n",
    "# Define model\n",
    "model = Lasso(alpha=1)\n",
    "# define model evaluation method\n",
    "cv = RepeatedKFold(n_splits=4, n_repeats=3, random_state=42)\n",
    "# evaluate model\n",
    "scores = cross_val_score(model, X, y, scoring='neg_mean_absolute_error', cv=cv, n_jobs=-1)\n",
    "# force scores to be positive\n",
    "scores = np.abs(scores)\n",
    "print('Mean MSE: %.3f (%.3f)' % (np.mean(scores), np.std(scores)))\n",
    "model.fit(X, y)\n",
    "\n",
    "row = [[4, 4.1, 7.5]]\n",
    "model.predict(row)\n",
    "\n",
    "# Save the model to a file\n",
    "joblib.dump(model, 'lasso_regressor_model_A.pkl')"
   ]
  },
  {
   "cell_type": "code",
   "execution_count": 91,
   "metadata": {},
   "outputs": [
    {
     "data": {
      "text/plain": [
       "array([[ 6.88475248, 85.51941681]])"
      ]
     },
     "execution_count": 91,
     "metadata": {},
     "output_type": "execute_result"
    }
   ],
   "source": [
    "row = [[4, 4.1, 7.5]]\n",
    "model.predict(row)"
   ]
  },
  {
   "cell_type": "markdown",
   "metadata": {},
   "source": [
    "**Midfielders**"
   ]
  },
  {
   "cell_type": "code",
   "execution_count": 96,
   "metadata": {},
   "outputs": [
    {
     "name": "stdout",
     "output_type": "stream",
     "text": [
      "Mean MSE: 4.599 (0.861)\n",
      "[[ 6.35587209 54.90152561]]\n"
     ]
    },
    {
     "data": {
      "text/plain": [
       "['lasso_regressor_model_C.pkl']"
      ]
     },
     "execution_count": 96,
     "metadata": {},
     "output_type": "execute_result"
    }
   ],
   "source": [
    "# Get the data to fit\n",
    "data = dataframe_C.values\n",
    "X, y = data[:, 2:-2], data[:, -3:-1]\n",
    "\n",
    "# Define model\n",
    "model = Lasso(alpha=1)\n",
    "# define model evaluation method\n",
    "cv = RepeatedKFold(n_splits=8, n_repeats=3, random_state=42)\n",
    "# evaluate model\n",
    "scores = cross_val_score(model, X, y, scoring='neg_mean_absolute_error', cv=cv, n_jobs=-1)\n",
    "# force scores to be positive\n",
    "scores = np.abs(scores)\n",
    "print('Mean MSE: %.3f (%.3f)' % (np.mean(scores), np.std(scores)))\n",
    "model.fit(X, y)\n",
    "\n",
    "row = [[5, 5, 8.4]]\n",
    "print(model.predict(row))\n",
    "\n",
    "# Save the model to a file\n",
    "joblib.dump(model, 'lasso_regressor_model_C.pkl')"
   ]
  },
  {
   "cell_type": "markdown",
   "metadata": {},
   "source": [
    "**Defenders**"
   ]
  },
  {
   "cell_type": "code",
   "execution_count": 60,
   "metadata": {},
   "outputs": [
    {
     "name": "stdout",
     "output_type": "stream",
     "text": [
      "Mean MSE: 2.194 (0.286)\n"
     ]
    },
    {
     "data": {
      "text/plain": [
       "['lasso_regressor_model_D.pkl']"
      ]
     },
     "execution_count": 60,
     "metadata": {},
     "output_type": "execute_result"
    }
   ],
   "source": [
    "# Get the data to fit\n",
    "data = dataframe_D.values\n",
    "X, y = data[:, 2:-4], data[:, -3:-1]\n",
    "\n",
    "# Define model\n",
    "model = Lasso(alpha=1)\n",
    "# define model evaluation method\n",
    "cv = RepeatedKFold(n_splits=4, n_repeats=3, random_state=42)\n",
    "# evaluate model\n",
    "scores = cross_val_score(model, X, y, scoring='neg_mean_absolute_error', cv=cv, n_jobs=-1)\n",
    "# force scores to be positive\n",
    "scores = np.abs(scores)\n",
    "print('Mean MSE: %.3f (%.3f)' % (np.mean(scores), np.std(scores)))\n",
    "model.fit(X, y)\n",
    "\n",
    "row = [[5, 15, 4, 5, 50]]\n",
    "model.predict(row)\n",
    "\n",
    "# Save the model to a file\n",
    "joblib.dump(model, 'lasso_regressor_model_D.pkl')"
   ]
  },
  {
   "cell_type": "markdown",
   "metadata": {},
   "source": [
    "**Keepers**"
   ]
  },
  {
   "cell_type": "code",
   "execution_count": 61,
   "metadata": {},
   "outputs": [
    {
     "name": "stdout",
     "output_type": "stream",
     "text": [
      "Mean MSE: 1.884 (0.376)\n"
     ]
    },
    {
     "data": {
      "text/plain": [
       "['lasso_regressor_model_P.pkl']"
      ]
     },
     "execution_count": 61,
     "metadata": {},
     "output_type": "execute_result"
    }
   ],
   "source": [
    "# Get the data to fit\n",
    "data = dataframe_P.values\n",
    "X, y = data[:, 2:-4], data[:, -3:-1]\n",
    "\n",
    "# Define model\n",
    "model = Lasso(alpha=1)\n",
    "# define model evaluation method\n",
    "cv = RepeatedKFold(n_splits=4, n_repeats=3, random_state=42)\n",
    "# evaluate model\n",
    "scores = cross_val_score(model, X, y, scoring='neg_mean_absolute_error', cv=cv, n_jobs=-1)\n",
    "# force scores to be positive\n",
    "scores = np.abs(scores)\n",
    "print('Mean MSE: %.3f (%.3f)' % (np.mean(scores), np.std(scores)))\n",
    "model.fit(X, y)\n",
    "\n",
    "row = [[5, 20, 4, 4, 80]]\n",
    "model.predict(row)\n",
    "# Save the model to a file\n",
    "joblib.dump(model, 'lasso_regressor_model_P.pkl')"
   ]
  }
 ],
 "metadata": {
  "kernelspec": {
   "display_name": "Python 3",
   "language": "python",
   "name": "python3"
  },
  "language_info": {
   "codemirror_mode": {
    "name": "ipython",
    "version": 3
   },
   "file_extension": ".py",
   "mimetype": "text/x-python",
   "name": "python",
   "nbconvert_exporter": "python",
   "pygments_lexer": "ipython3",
   "version": "3.9.6"
  }
 },
 "nbformat": 4,
 "nbformat_minor": 2
}
